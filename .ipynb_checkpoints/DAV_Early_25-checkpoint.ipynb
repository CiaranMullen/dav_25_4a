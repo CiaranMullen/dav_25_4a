{
 "cells": [
  {
   "cell_type": "markdown",
   "id": "a7fd3c13-5d57-4486-b03a-08544a46fa78",
   "metadata": {},
   "source": [
    "<b> Assumption that you have covered linear regression </b>"
   ]
  },
  {
   "cell_type": "markdown",
   "id": "e7ba770b-bfc6-4672-8abd-a377c9d94ada",
   "metadata": {},
   "source": [
    "# Multiple Linear Regression"
   ]
  },
  {
   "cell_type": "markdown",
   "id": "231ac58d-5cfb-4722-90f2-c5026dd8a72b",
   "metadata": {},
   "source": [
    "A delivery service offers the same delivery for letters, packages and small cargo. You are able to use Google maps to group deliveries into one trip. Some trips have more than one delivery. You would like to estimate how long a delivery will take based on:\n",
    "\n",
    "1. Total distance of the trip in kilometers\n",
    "2. The number of deliveries that must be made\n",
    "   \n",
    "To conduct the analysis take a random sample of 10 past trips and record:\n",
    "\n",
    "1. Total kilometers travelled\n",
    "2. Number of delivers\n",
    "3. Total time in hours\n",
    "\n",
    "<table>\n",
    "    <tr>\n",
    "    <th>kmTravelled</th>\n",
    "    <th>deliveries</th>\n",
    "    <th>time</th>\n",
    "    </tr>\n",
    "    <tr>\n",
    "    <th>89</th>\n",
    "    <th>4</th>\n",
    "    <th>7</th>\n",
    "    </tr>\n",
    "    <tr>\n",
    "    <th>66</th>\n",
    "    <th>1</th>\n",
    "    <th>5.4</th>\n",
    "    </tr>\n",
    "    <tr>\n",
    "    <th>78</th>\n",
    "    <th>3</th>\n",
    "    <th>6.6</th>\n",
    "    </tr>\n",
    "    <tr>\n",
    "    <th>111</th>\n",
    "    <th>6</th>\n",
    "    <th>7.4</th>\n",
    "    </tr>\n",
    "    <tr>\n",
    "    <th>44</th>\n",
    "    <th>1</th>\n",
    "    <th>4.8</th>\n",
    "    </tr>\n",
    "    <tr>\n",
    "    <th>77</th>\n",
    "    <th>3</th>\n",
    "    <th>6.4</th>\n",
    "    </tr>\n",
    "    <tr>\n",
    "    <th>80</th>\n",
    "    <th>3</th>\n",
    "    <th>7</th>\n",
    "    </tr>\n",
    "    <tr>\n",
    "    <th>66</th>\n",
    "    <th>2</th>\n",
    "    <th>5.4</th>\n",
    "    </tr>\n",
    "    <tr>\n",
    "    <th>109</th>\n",
    "    <th>5</th>\n",
    "    <th>7.3</th>\n",
    "    </tr>\n",
    "    <tr>\n",
    "    <th>76</th>\n",
    "    <th>3</th>\n",
    "    <th>6.4</th>\n",
    "    </tr>\n",
    "</table>\n",
    "\n",
    "In what way does travel time depend on the other two variables?\n",
    "\n",
    "Travel time is the dependent variable and kilometers travelled and number of deliveries are the independent variables. \n",
    "Dependent = Response, Independent = Predictor\n",
    "\n",
    "New considerations when moving from simple to multiple regression:\n",
    "1. Adding more independent variables to a multiple regression does not mean that the regression is better or that it will give better predictions, in fact it can be worse. This is called OVERFITTING\n",
    "2. The addition of more independent variables creates more relationships between them. So not only do we need to consider the independent variables and the dependent variables, we also need to consider the relationship between the independent variables. This is called MULTICOLINEARITY.\n",
    "3. The ideal is for all independent variables to be correlated with the dependent variable and NOT with each other.\n",
    "4. Because of overfitting and mutlicolinearity, there is a lot of prep work before we start multiple regression.\n",
    "   \n",
    "   - Scatterplots\n",
    "   - Correlations\n",
    "   - Simple regressions between each of the independent variables and the dependent variables to see how they are related\n",
    "  \n",
    "Important to consider which independent variables make the cut. Some independent or sets of independent variables are better at predicting the dependent variables than others. Some contribute nothing.\n",
    "\n",
    "Mutliple regression model: $\\beta_0 + \\beta_1x_1+\\beta_2x_2+\\dots+\\beta_px_p + \\epsilon$\n",
    "\n",
    "$y = 27 + 9x_1 + 12 x_2$\n",
    "\n",
    "- x_1 = capital investment (€1000s)\n",
    "- x_2 = marketing expenses (€1000s)\n",
    "- y = predicted sales (€1000s)\n",
    "\n",
    "Each coefficient (9, 12) is interpreted as the estimate in y corresponding to a 1 unit change in variable when all other variables are held fixed.\n",
    "\n",
    "€9000 is an estimate of the expected increase in sales y, corresponding to a €1000 increase in capital investment $x_1$ when marketing expenditure $x_2$ is held fixed\n",
    "\n",
    "As the owner you would like to estimate how long a delivery will take based on three factors:\n",
    "- The total distance of the trip in kilometers\n",
    "- The number of deliveries\n",
    "- The fuel price in €\n",
    "\n",
    "Nice exam question. Conducting multiple regression requires the following steps:\n",
    "1. Generate a list of independent and dependent variables\n",
    "2. Collect data on the variables\n",
    "3. Check for outliers\n",
    "4. Check the relationships between each independent variable and the dependent variable using scatterplots and correlations\n",
    "5. Check the relationships between the independent variables using scatterplots and correlations\n",
    "6. Conduct simple linear regressions for each IV/DV pair\n",
    "7. Use the non-redundant independent variables in the analysis to find the best fitting model\n",
    "8. Use the best fitting model to make predictions about the dependent variable\n",
    "\n",
    "<table>\n",
    "    <tr>\n",
    "    <th>kmTravelled</th>\n",
    "    <th>deliveries</th>\n",
    "    <th>fuel_prices</th>\n",
    "    <th>time</th>\n",
    "    </tr>\n",
    "    <tr>\n",
    "    <th>89</th>\n",
    "    <th>4</th>\n",
    "    <th>3.84</th>\n",
    "    <th>7</th>\n",
    "    </tr>\n",
    "    <tr>\n",
    "    <th>66</th>\n",
    "    <th>1</th>\n",
    "    <th>3.19</th>\n",
    "    <th>5.4</th>\n",
    "    </tr>\n",
    "    <tr>\n",
    "    <th>78</th>\n",
    "    <th>3</th>\n",
    "    <th>3.78</th>\n",
    "    <th>6.6</th>\n",
    "    </tr>\n",
    "    <tr>\n",
    "    <th>111</th>\n",
    "    <th>6</th>\n",
    "    <th>3.89</th>\n",
    "    <th>7.4</th>\n",
    "    </tr>\n",
    "    <tr>\n",
    "    <th>44</th>\n",
    "    <th>1</th>\n",
    "    <th>3.57</th>\n",
    "    <th>4.8</th>\n",
    "    </tr>\n",
    "    <tr>\n",
    "    <th>77</th>\n",
    "    <th>3</th>\n",
    "    <th>3.57</th>\n",
    "    <th>6.4</th>\n",
    "    </tr>\n",
    "    <tr>\n",
    "    <th>80</th>\n",
    "    <th>3</th>\n",
    "    <th>3.03</th>\n",
    "    <th>7</th>\n",
    "    </tr>\n",
    "    <tr>\n",
    "    <th>66</th>\n",
    "    <th>2</th>\n",
    "    <th>3.51</th>\n",
    "    <th>5.4</th>\n",
    "    </tr>\n",
    "    <tr>\n",
    "    <th>109</th>\n",
    "    <th>5</th>\n",
    "    <th>3.54</th>\n",
    "    <th>7.3</th>\n",
    "    </tr>\n",
    "    <tr>\n",
    "    <th>76</th>\n",
    "    <th>3</th>\n",
    "    <th>3.25</th>\n",
    "    <th>6.4</th>\n",
    "    </tr>\n",
    "</table>\n"
   ]
  },
  {
   "cell_type": "code",
   "execution_count": 5,
   "id": "0dc3873b-3afb-4163-939a-431ce0b84f8c",
   "metadata": {},
   "outputs": [],
   "source": [
    "kilometers_travelled = [89, 66, 78, 111, 44, 77, 80, 66, 109, 76]\n",
    "time_taken = [7, 5.4, 6.6, 7.4, 4.8, 6.4, 7, 5.6, 7.3, 6.4]"
   ]
  },
  {
   "cell_type": "code",
   "execution_count": 6,
   "id": "4079ac60-17b5-47a7-b2df-14c739e1e75a",
   "metadata": {},
   "outputs": [
    {
     "data": {
      "text/plain": [
       "[<matplotlib.lines.Line2D at 0x1d417308920>]"
      ]
     },
     "execution_count": 6,
     "metadata": {},
     "output_type": "execute_result"
    },
    {
     "data": {
      "image/png": "[encoded data removed]",
      "text/plain": [
       "<Figure size 640x480 with 1 Axes>"
      ]
     },
     "metadata": {},
     "output_type": "display_data"
    }
   ],
   "source": [
    "from matplotlib import pyplot as plt\n",
    "import numpy as np\n",
    "plt.title(\"kilometers_travelled v time_taken\")\n",
    "plt.xlabel(\"kilometers_travelled\")\n",
    "plt.ylabel(\"time_taken\")\n",
    "plt.scatter(kilometers_travelled, time_taken)\n",
    "plt.plot(np.unique(kilometers_travelled), \n",
    "         np.poly1d(np.polyfit(kilometers_travelled, time_taken,1))(np.unique(kilometers_travelled)))"
   ]
  },
  {
   "cell_type": "code",
   "execution_count": 7,
   "id": "bdf29f7f-c996-410f-b322-9ee243cc3a29",
   "metadata": {},
   "outputs": [],
   "source": [
    "number_deliveries = [4, 1, 3, 6, 1, 3, 3, 2, 5, 3]"
   ]
  },
  {
   "cell_type": "code",
   "execution_count": 8,
   "id": "3b6f5cf5-3984-4e84-86b8-e4a201304227",
   "metadata": {},
   "outputs": [
    {
     "data": {
      "text/plain": [
       "[<matplotlib.lines.Line2D at 0x1d417402ba0>]"
      ]
     },
     "execution_count": 8,
     "metadata": {},
     "output_type": "execute_result"
    },
    {
     "data": {
      "image/png": "[encoded data removed]",
      "text/plain": [
       "<Figure size 640x480 with 1 Axes>"
      ]
     },
     "metadata": {},
     "output_type": "display_data"
    }
   ],
   "source": [
    "plt.title(\"number_deliveries v time_taken\")\n",
    "plt.xlabel(\"number_deliveries\")\n",
    "plt.ylabel(\"time_taken\")\n",
    "plt.scatter(number_deliveries, time_taken)\n",
    "plt.plot(np.unique(number_deliveries), np.poly1d(np.polyfit(number_deliveries, time_taken,1))(np.unique(number_deliveries)))"
   ]
  },
  {
   "cell_type": "code",
   "execution_count": 9,
   "id": "6f07075a-0174-4dd4-a607-b1e1cde8a0ad",
   "metadata": {},
   "outputs": [],
   "source": [
    "fuel_prices = [3.84, 3.19, 3.78, 3.84, 3.57, 3.57, 3.03, 3.51, 3.54, 3.24]"
   ]
  },
  {
   "cell_type": "code",
   "execution_count": 10,
   "id": "390150a0-6ba0-422f-8718-25905ccd90f4",
   "metadata": {},
   "outputs": [
    {
     "data": {
      "text/plain": [
       "[<matplotlib.lines.Line2D at 0x1d417b2c980>]"
      ]
     },
     "execution_count": 10,
     "metadata": {},
     "output_type": "execute_result"
    },
    {
     "data": {
      "image/png": "[encoded data removed]",
      "text/plain": [
       "<Figure size 640x480 with 1 Axes>"
      ]
     },
     "metadata": {},
     "output_type": "display_data"
    }
   ],
   "source": [
    "plt.title(\"fuel_prices v time_taken\")\n",
    "plt.xlabel(\"fuel_prices\")\n",
    "plt.ylabel(\"time_taken\")\n",
    "plt.scatter(fuel_prices, time_taken)\n",
    "plt.plot(np.unique(fuel_prices), np.poly1d(np.polyfit(fuel_prices, time_taken,1))(np.unique(fuel_prices)))"
   ]
  },
  {
   "cell_type": "markdown",
   "id": "301ee8a3-4095-4b19-9b0c-b8f176802d1b",
   "metadata": {},
   "source": [
    "<b>Scatterplot summary </b>\n",
    "- travel time appears highly correlated with kiometers travelled\n",
    "- travel time appears highly corrleated with the number of deliveries\n",
    "- travel time does not appear to be correlated with fuel prices\n",
    "\n",
    "Since fuel prices does not appear to be correlated with time taken we would not use this variable in the regression. I am going to leave it in to show you what happens. If I wasn't teaching I would throw it away at this point.\n",
    "\n",
    "Next we need to look at IV to IV scatterplots"
   ]
  },
  {
   "cell_type": "code",
   "execution_count": 11,
   "id": "266a764f-4841-473f-b873-ee5be70f9ed9",
   "metadata": {},
   "outputs": [
    {
     "data": {
      "text/plain": [
       "[<matplotlib.lines.Line2D at 0x1d417b6be90>]"
      ]
     },
     "execution_count": 11,
     "metadata": {},
     "output_type": "execute_result"
    },
    {
     "data": {
      "image/png": "[encoded data removed]",
      "text/plain": [
       "<Figure size 640x480 with 1 Axes>"
      ]
     },
     "metadata": {},
     "output_type": "display_data"
    }
   ],
   "source": [
    "plt.title(\"kilometers_travelled v number_deliveries\")\n",
    "plt.xlabel(\"kilometers_travelled\")\n",
    "plt.ylabel(\"number_deliveries\")\n",
    "plt.scatter(kilometers_travelled, number_deliveries)\n",
    "plt.plot(np.unique(kilometers_travelled), np.poly1d(np.polyfit(kilometers_travelled, number_deliveries,1))(np.unique(kilometers_travelled)))"
   ]
  },
  {
   "cell_type": "code",
   "execution_count": 12,
   "id": "d6799e6e-1a83-4f10-8d84-94981a411ab9",
   "metadata": {},
   "outputs": [
    {
     "data": {
      "text/plain": [
       "[<matplotlib.lines.Line2D at 0x1d417bcf9e0>]"
      ]
     },
     "execution_count": 12,
     "metadata": {},
     "output_type": "execute_result"
    },
    {
     "data": {
      "image/png": "[encoded data removed]",
      "text/plain": [
       "<Figure size 640x480 with 1 Axes>"
      ]
     },
     "metadata": {},
     "output_type": "display_data"
    }
   ],
   "source": [
    "plt.title(\"kilometers_travelled v fuel_prices\")\n",
    "plt.xlabel(\"kilometers_travelled\")\n",
    "plt.ylabel(\"fuel_prices\")\n",
    "plt.scatter(kilometers_travelled, fuel_prices)\n",
    "plt.plot(np.unique(kilometers_travelled), np.poly1d(np.polyfit(kilometers_travelled, fuel_prices,1))(np.unique(kilometers_travelled)))"
   ]
  },
  {
   "cell_type": "code",
   "execution_count": 13,
   "id": "fb427463-2501-472e-b0c6-7e21b24ae541",
   "metadata": {},
   "outputs": [
    {
     "data": {
      "text/plain": [
       "[<matplotlib.lines.Line2D at 0x1d418c6e720>]"
      ]
     },
     "execution_count": 13,
     "metadata": {},
     "output_type": "execute_result"
    },
    {
     "data": {
      "image/png": "[encoded data removed]",
      "text/plain": [
       "<Figure size 640x480 with 1 Axes>"
      ]
     },
     "metadata": {},
     "output_type": "display_data"
    }
   ],
   "source": [
    "plt.title(\"number_deliveries v fuel_prices\")\n",
    "plt.xlabel(\"number_deliveries\")\n",
    "plt.ylabel(\"fuel_prices\")\n",
    "plt.scatter(number_deliveries, fuel_prices)\n",
    "plt.plot(np.unique(number_deliveries), np.poly1d(np.polyfit(number_deliveries, fuel_prices,1))(np.unique(number_deliveries)))"
   ]
  },
  {
   "cell_type": "markdown",
   "id": "cd82fe43-cd4e-4ac6-98c9-8f72f6f30b12",
   "metadata": {},
   "source": [
    "<b> IV to IV Scatterplots </b>\n",
    "1. number_deliveries is highly correlated with kilometers travelled (multicolinearity - BAD)\n",
    "2. kilometers travelled does not appear correlated with fuel prices\n",
    "3. number_deliveries does not appear correlated with fuel prices\n",
    "\n",
    "Since the number_deliveries is highly correlated with kilometers_travelled, I would not use both. They are redundant. For I now keep both."
   ]
  },
  {
   "cell_type": "code",
   "execution_count": 14,
   "id": "b654e72e-2e9a-4090-b16c-0f32dac26872",
   "metadata": {},
   "outputs": [],
   "source": [
    "from scipy.stats import pearsonr"
   ]
  },
  {
   "cell_type": "code",
   "execution_count": 15,
   "id": "6e4cc48f-f7e2-4ad7-91f9-ecf3895c6aa4",
   "metadata": {},
   "outputs": [
    {
     "name": "stdout",
     "output_type": "stream",
     "text": [
      "PearsonRResult(statistic=0.9281785008874762, pvalue=0.00010667565429896544)\n"
     ]
    }
   ],
   "source": [
    "corr = pearsonr(kilometers_travelled, time_taken)\n",
    "print(corr)"
   ]
  },
  {
   "cell_type": "markdown",
   "id": "e2c0a15e-db7e-44e1-a6f6-d8dfd0b867bb",
   "metadata": {},
   "source": [
    "First value is the correlation (very high in this case). Second value is the p-value. That is the probability that this is a random occurrence.\n",
    "If the p-value is below 0.05 we say that it is statistically significant."
   ]
  },
  {
   "cell_type": "code",
   "execution_count": 16,
   "id": "cd2798cf-2346-4c8d-a004-555c46cc6e36",
   "metadata": {},
   "outputs": [
    {
     "name": "stdout",
     "output_type": "stream",
     "text": [
      "PearsonRResult(statistic=0.9164433964470269, pvalue=0.00019260878342962958)\n"
     ]
    }
   ],
   "source": [
    "corr = pearsonr(number_deliveries, time_taken)\n",
    "print(corr)"
   ]
  },
  {
   "cell_type": "code",
   "execution_count": 17,
   "id": "d8cd6e27-5f28-40d2-a5f6-1f9ce7ed9218",
   "metadata": {},
   "outputs": [
    {
     "name": "stdout",
     "output_type": "stream",
     "text": [
      "PearsonRResult(statistic=0.2496183502471128, pvalue=0.4867301351389117)\n"
     ]
    }
   ],
   "source": [
    "corr = pearsonr(fuel_prices, time_taken)\n",
    "print(corr)"
   ]
  },
  {
   "cell_type": "code",
   "execution_count": 18,
   "id": "db23ada4-5c6d-424e-8f6e-379c8392c74d",
   "metadata": {},
   "outputs": [
    {
     "name": "stdout",
     "output_type": "stream",
     "text": [
      "PearsonRResult(statistic=0.9558982066200346, pvalue=1.569031440766093e-05)\n"
     ]
    }
   ],
   "source": [
    "corr = pearsonr(kilometers_travelled,number_deliveries)\n",
    "print(corr)"
   ]
  },
  {
   "cell_type": "code",
   "execution_count": 19,
   "id": "da843fde-6da5-435c-8b9f-16cb62838e01",
   "metadata": {},
   "outputs": [
    {
     "name": "stdout",
     "output_type": "stream",
     "text": [
      "PearsonRResult(statistic=0.33275636821052534, pvalue=0.34748050332358726)\n"
     ]
    }
   ],
   "source": [
    "corr = pearsonr(kilometers_travelled, fuel_prices)\n",
    "print(corr)"
   ]
  },
  {
   "cell_type": "code",
   "execution_count": 20,
   "id": "2117af83-38e2-4599-8f2a-878fedc873b4",
   "metadata": {},
   "outputs": [
    {
     "name": "stdout",
     "output_type": "stream",
     "text": [
      "PearsonRResult(statistic=0.4727916601389726, pvalue=0.1675961107154768)\n"
     ]
    }
   ],
   "source": [
    "corr = pearsonr(number_deliveries, fuel_prices)\n",
    "print(corr)"
   ]
  },
  {
   "cell_type": "markdown",
   "id": "8e8399fc-e60d-4952-8afe-7925424b2b9c",
   "metadata": {},
   "source": [
    "Correlation between kilometers_travelled and number_deliveries is 0.955. Extremely strong. A massive red flag for multilinearlity.\n",
    "- 0.0-0.4 weak correlation\n",
    "- 0.4-0.7 medium correlation\n",
    "- 0.7 and above is strong\n",
    "\n",
    "<b> IV Scatterplots and Pearson correlations </b>\n",
    "1. r = 0.955 p-value = 0.000156 XXXXXXXXX. Big problem. These two independent variables should not be included together.\n",
    "2. r = 0.332 p-value 0.347. Very weak correlation. Good\n",
    "3. r = 0.472, p-value 0.16. Medium. Ok.\n",
    "\n",
    "Two problematic variables are miles_travelled and number_deliveries. Only include 1 in the regression if we are not learning.\n",
    "\n",
    "<b> Correlation Summary </b>\n",
    "1. Correlation analysis confirms what we have seen in the scatterplots.\n",
    "2. Redundant multicolinear variables kilometers_travelled and number_deliveries are highly correlated with each other and therefore are redundant, only should be used in the multiple regression analysis.\n",
    "3. Non-contributing variable, fuel_prices are not correlated with the dependent variable and should be excluded.\n",
    "\n",
    "<b> Review and conclusions </b>\n",
    "1. There is a lot of prep-work to do for multilinear regression.\n",
    "2. Don't blindly mash buttons.\n",
    "3. Tecnhiques\n",
    " - Scatterplots\n",
    " - Correlation\n",
    " - Individual and group regressions\n",
    "\n",
    "1. For the sake of learning, we will break the rules and leave all of the independent variables in first.\n",
    "2. Then we will remove the problematics variables to see what happens to the regression results\n",
    "3. We will also do simple regressions with the dependent variable as baseline\n",
    "4. In the end we will get the best model\n",
    "\n",
    "<b> Simple linear regression </b>\n",
    "1. First we will conduct simple linear regression for each independent variable separately\n",
    "2. We will interpret the results\n",
    "3. We will note how the results change:\n",
    "   - coefficents - values, t-statistics, p-value\n",
    "   - ANOVA analysis of variance, F-value, p-value\n",
    "   - R-squared, R-squared adjusted\n"
   ]
  },
  {
   "cell_type": "code",
   "execution_count": 21,
   "id": "39e7ba0b-37a0-45c2-86cc-016525cc4be5",
   "metadata": {},
   "outputs": [],
   "source": [
    "import numpy as np\n",
    "from sklearn.linear_model import LinearRegression\n",
    "\n"
   ]
  },
  {
   "cell_type": "code",
   "execution_count": 22,
   "id": "13c91e1b-954c-4484-a66c-a735187e2b54",
   "metadata": {},
   "outputs": [
    {
     "name": "stdout",
     "output_type": "stream",
     "text": [
      "0.8615153295097224\n"
     ]
    }
   ],
   "source": [
    "model = LinearRegression()\n",
    "kilometers_travelled = np.array(kilometers_travelled).reshape(-1, 1)\n",
    "model.fit(kilometers_travelled, time_taken)\n",
    "r_sq = model.score(kilometers_travelled, time_taken)\n",
    "print(r_sq)"
   ]
  },
  {
   "cell_type": "markdown",
   "id": "056639a8-bfc4-452c-b36e-4a4b8609c673",
   "metadata": {},
   "source": [
    "- R-squared is the % of variation in the dependent variable explained by the independent variable\n",
    "- Standard error (SE) of the regression is the average distance of the points away from the regression line"
   ]
  },
  {
   "cell_type": "code",
   "execution_count": 23,
   "id": "47c624ba-5ccd-4fdf-9d39-c294a39bbb1e",
   "metadata": {},
   "outputs": [],
   "source": [
    "import statsmodels.api as sm"
   ]
  },
  {
   "cell_type": "code",
   "execution_count": 24,
   "id": "fa7672e0-dea1-4e44-9514-e72f942d49f2",
   "metadata": {},
   "outputs": [
    {
     "name": "stdout",
     "output_type": "stream",
     "text": [
      "                            OLS Regression Results                            \n",
      "==============================================================================\n",
      "Dep. Variable:                      y   R-squared:                       0.862\n",
      "Model:                            OLS   Adj. R-squared:                  0.844\n",
      "Method:                 Least Squares   F-statistic:                     49.77\n",
      "Date:                Fri, 07 Feb 2025   Prob (F-statistic):           0.000107\n",
      "Time:                        09:56:02   Log-Likelihood:                -2.3532\n",
      "No. Observations:                  10   AIC:                             8.706\n",
      "Df Residuals:                       8   BIC:                             9.312\n",
      "Df Model:                           1                                         \n",
      "Covariance Type:            nonrobust                                         \n",
      "==============================================================================\n",
      "                 coef    std err          t      P>|t|      [0.025      0.975]\n",
      "------------------------------------------------------------------------------\n",
      "const          3.1856      0.467      6.822      0.000       2.109       4.262\n",
      "x1             0.0403      0.006      7.055      0.000       0.027       0.053\n",
      "==============================================================================\n",
      "Omnibus:                        0.542   Durbin-Watson:                   2.608\n",
      "Prob(Omnibus):                  0.763   Jarque-Bera (JB):                0.554\n",
      "Skew:                           0.370   Prob(JB):                        0.758\n",
      "Kurtosis:                       2.115   Cond. No.                         353.\n",
      "==============================================================================\n",
      "\n",
      "Notes:\n",
      "[1] Standard Errors assume that the covariance matrix of the errors is correctly specified.\n",
      "0.3423088398195201\n"
     ]
    },
    {
     "name": "stderr",
     "output_type": "stream",
     "text": [
      "C:\\Users\\johnl\\anaconda3\\Lib\\site-packages\\scipy\\stats\\_axis_nan_policy.py:531: UserWarning: kurtosistest only valid for n>=20 ... continuing anyway, n=10\n",
      "  res = hypotest_fun_out(*samples, **kwds)\n"
     ]
    }
   ],
   "source": [
    "kilometers_travelled = sm.add_constant(kilometers_travelled)\n",
    "model = sm.OLS(time_taken, kilometers_travelled)\n",
    "result = model.fit()\n",
    "print(result.summary())\n",
    "# Next line gives the standard error\n",
    "print(result.scale**0.5)"
   ]
  },
  {
   "cell_type": "code",
   "execution_count": 25,
   "id": "2ef325e8-2a4a-4b2f-89b9-4011208dd2b0",
   "metadata": {},
   "outputs": [
    {
     "name": "stdout",
     "output_type": "stream",
     "text": [
      "                            OLS Regression Results                            \n",
      "==============================================================================\n",
      "Dep. Variable:                      y   R-squared:                       0.840\n",
      "Model:                            OLS   Adj. R-squared:                  0.820\n",
      "Method:                 Least Squares   F-statistic:                     41.96\n",
      "Date:                Fri, 07 Feb 2025   Prob (F-statistic):           0.000193\n",
      "Time:                        09:56:02   Log-Likelihood:                -3.0794\n",
      "No. Observations:                  10   AIC:                             10.16\n",
      "Df Residuals:                       8   BIC:                             10.76\n",
      "Df Model:                           1                                         \n",
      "Covariance Type:            nonrobust                                         \n",
      "==============================================================================\n",
      "                 coef    std err          t      P>|t|      [0.025      0.975]\n",
      "------------------------------------------------------------------------------\n",
      "const          4.8454      0.265     18.261      0.000       4.234       5.457\n",
      "x1             0.4983      0.077      6.478      0.000       0.321       0.676\n",
      "==============================================================================\n",
      "Omnibus:                        0.391   Durbin-Watson:                   1.970\n",
      "Prob(Omnibus):                  0.822   Jarque-Bera (JB):                0.065\n",
      "Skew:                           0.147   Prob(JB):                        0.968\n",
      "Kurtosis:                       2.736   Cond. No.                         8.41\n",
      "==============================================================================\n",
      "\n",
      "Notes:\n",
      "[1] Standard Errors assume that the covariance matrix of the errors is correctly specified.\n",
      "0.36809138318567824\n"
     ]
    },
    {
     "name": "stderr",
     "output_type": "stream",
     "text": [
      "C:\\Users\\johnl\\anaconda3\\Lib\\site-packages\\scipy\\stats\\_axis_nan_policy.py:531: UserWarning: kurtosistest only valid for n>=20 ... continuing anyway, n=10\n",
      "  res = hypotest_fun_out(*samples, **kwds)\n"
     ]
    }
   ],
   "source": [
    "number_deliveries = sm.add_constant(number_deliveries)\n",
    "model = sm.OLS(time_taken, number_deliveries)\n",
    "result = model.fit()\n",
    "print(result.summary())\n",
    "# Next line gives the standard error\n",
    "print(result.scale**0.5)"
   ]
  },
  {
   "cell_type": "code",
   "execution_count": 26,
   "id": "2507d627-60d2-4def-aaac-f9e3ae467e34",
   "metadata": {},
   "outputs": [
    {
     "name": "stdout",
     "output_type": "stream",
     "text": [
      "                            OLS Regression Results                            \n",
      "==============================================================================\n",
      "Dep. Variable:                      y   R-squared:                       0.062\n",
      "Model:                            OLS   Adj. R-squared:                 -0.055\n",
      "Method:                 Least Squares   F-statistic:                    0.5316\n",
      "Date:                Fri, 07 Feb 2025   Prob (F-statistic):              0.487\n",
      "Time:                        09:56:02   Log-Likelihood:                -11.917\n",
      "No. Observations:                  10   AIC:                             27.83\n",
      "Df Residuals:                       8   BIC:                             28.44\n",
      "Df Model:                           1                                         \n",
      "Covariance Type:            nonrobust                                         \n",
      "==============================================================================\n",
      "                 coef    std err          t      P>|t|      [0.025      0.975]\n",
      "------------------------------------------------------------------------------\n",
      "const          3.6734      3.737      0.983      0.354      -4.943      12.290\n",
      "x1             0.7738      1.061      0.729      0.487      -1.673       3.221\n",
      "==============================================================================\n",
      "Omnibus:                        1.224   Durbin-Watson:                   2.841\n",
      "Prob(Omnibus):                  0.542   Jarque-Bera (JB):                0.784\n",
      "Skew:                          -0.621   Prob(JB):                        0.676\n",
      "Kurtosis:                       2.418   Cond. No.                         50.5\n",
      "==============================================================================\n",
      "\n",
      "Notes:\n",
      "[1] Standard Errors assume that the covariance matrix of the errors is correctly specified.\n",
      "0.890732016913587\n"
     ]
    },
    {
     "name": "stderr",
     "output_type": "stream",
     "text": [
      "C:\\Users\\johnl\\anaconda3\\Lib\\site-packages\\scipy\\stats\\_axis_nan_policy.py:531: UserWarning: kurtosistest only valid for n>=20 ... continuing anyway, n=10\n",
      "  res = hypotest_fun_out(*samples, **kwds)\n"
     ]
    }
   ],
   "source": [
    "fuel_prices = sm.add_constant(fuel_prices)\n",
    "model = sm.OLS(time_taken, fuel_prices)\n",
    "result = model.fit()\n",
    "print(result.summary())\n",
    "# Next line gives the standard error\n",
    "print(result.scale**0.5)"
   ]
  },
  {
   "cell_type": "code",
   "execution_count": 27,
   "id": "b2c9d257-8a6a-4fc6-a5bd-a48309dc0d8f",
   "metadata": {},
   "outputs": [
    {
     "name": "stdout",
     "output_type": "stream",
     "text": [
      "[(89, 4), (66, 1), (78, 3), (111, 6), (44, 1), (77, 3), (80, 3), (66, 2), (109, 5), (76, 3)]\n"
     ]
    }
   ],
   "source": [
    "kilometers_travelled = [89, 66, 78, 111, 44, 77, 80, 66, 109, 76]\n",
    "number_deliveries = [4, 1, 3, 6, 1, 3, 3, 2, 5, 3]\n",
    "data = list(zip(kilometers_travelled, number_deliveries))\n",
    "print(data)\n",
    "\n"
   ]
  },
  {
   "cell_type": "code",
   "execution_count": 28,
   "id": "62f08df8-8510-497b-8bec-46acb9d68332",
   "metadata": {},
   "outputs": [
    {
     "name": "stdout",
     "output_type": "stream",
     "text": [
      "                            OLS Regression Results                            \n",
      "==============================================================================\n",
      "Dep. Variable:                      y   R-squared:                       0.871\n",
      "Model:                            OLS   Adj. R-squared:                  0.835\n",
      "Method:                 Least Squares   F-statistic:                     23.72\n",
      "Date:                Fri, 07 Feb 2025   Prob (F-statistic):           0.000763\n",
      "Time:                        09:56:02   Log-Likelihood:                -1.9830\n",
      "No. Observations:                  10   AIC:                             9.966\n",
      "Df Residuals:                       7   BIC:                             10.87\n",
      "Df Model:                           2                                         \n",
      "Covariance Type:            nonrobust                                         \n",
      "==============================================================================\n",
      "                 coef    std err          t      P>|t|      [0.025      0.975]\n",
      "------------------------------------------------------------------------------\n",
      "const          3.7322      0.887      4.208      0.004       1.635       5.830\n",
      "x1             0.0262      0.020      1.310      0.232      -0.021       0.074\n",
      "x2             0.1840      0.251      0.733      0.487      -0.409       0.777\n",
      "==============================================================================\n",
      "Omnibus:                        1.340   Durbin-Watson:                   2.402\n",
      "Prob(Omnibus):                  0.512   Jarque-Bera (JB):                0.867\n",
      "Skew:                           0.654   Prob(JB):                        0.648\n",
      "Kurtosis:                       2.393   Cond. No.                         670.\n",
      "==============================================================================\n",
      "\n",
      "Notes:\n",
      "[1] Standard Errors assume that the covariance matrix of the errors is correctly specified.\n",
      "0.3526424259803893\n"
     ]
    },
    {
     "name": "stderr",
     "output_type": "stream",
     "text": [
      "C:\\Users\\johnl\\anaconda3\\Lib\\site-packages\\scipy\\stats\\_axis_nan_policy.py:531: UserWarning: kurtosistest only valid for n>=20 ... continuing anyway, n=10\n",
      "  res = hypotest_fun_out(*samples, **kwds)\n"
     ]
    }
   ],
   "source": [
    "data = sm.add_constant(data)\n",
    "model = sm.OLS(time_taken, data)\n",
    "result = model.fit()\n",
    "print(result.summary())\n",
    "# Next line gives the standard error\n",
    "print(result.scale**0.5)\n",
    "\n"
   ]
  },
  {
   "cell_type": "code",
   "execution_count": 29,
   "id": "35cf3522-8b05-4b5e-83e5-8f877eaf3c3a",
   "metadata": {},
   "outputs": [
    {
     "name": "stdout",
     "output_type": "stream",
     "text": [
      "[(89, 3.84), (66, 3.19), (78, 3.78), (111, 3.84), (44, 3.57), (77, 3.57), (80, 3.03), (66, 3.51), (109, 3.54), (76, 3.24)]\n"
     ]
    }
   ],
   "source": [
    "fuel_prices = [3.84, 3.19, 3.78, 3.84, 3.57, 3.57, 3.03, 3.51, 3.54, 3.24]\n",
    "data = list(zip(kilometers_travelled, fuel_prices))\n",
    "print(data)"
   ]
  },
  {
   "cell_type": "code",
   "execution_count": 30,
   "id": "c0cbec9d-bbd1-4ca3-8f62-4f7e26e61776",
   "metadata": {},
   "outputs": [
    {
     "name": "stdout",
     "output_type": "stream",
     "text": [
      "                            OLS Regression Results                            \n",
      "==============================================================================\n",
      "Dep. Variable:                      y   R-squared:                       0.865\n",
      "Model:                            OLS   Adj. R-squared:                  0.827\n",
      "Method:                 Least Squares   F-statistic:                     22.51\n",
      "Date:                Fri, 07 Feb 2025   Prob (F-statistic):           0.000893\n",
      "Time:                        09:56:02   Log-Likelihood:                -2.2087\n",
      "No. Observations:                  10   AIC:                             10.42\n",
      "Df Residuals:                       7   BIC:                             11.33\n",
      "Df Model:                           2                                         \n",
      "Covariance Type:            nonrobust                                         \n",
      "==============================================================================\n",
      "                 coef    std err          t      P>|t|      [0.025      0.975]\n",
      "------------------------------------------------------------------------------\n",
      "const          3.8340      1.513      2.534      0.039       0.256       7.412\n",
      "x1             0.0412      0.006      6.464      0.000       0.026       0.056\n",
      "x2            -0.2065      0.456     -0.453      0.664      -1.284       0.871\n",
      "==============================================================================\n",
      "Omnibus:                        0.742   Durbin-Watson:                   2.736\n",
      "Prob(Omnibus):                  0.690   Jarque-Bera (JB):                0.567\n",
      "Skew:                           0.049   Prob(JB):                        0.753\n",
      "Kurtosis:                       1.838   Cond. No.                     1.13e+03\n",
      "==============================================================================\n",
      "\n",
      "Notes:\n",
      "[1] Standard Errors assume that the covariance matrix of the errors is correctly specified.\n",
      "[2] The condition number is large, 1.13e+03. This might indicate that there are\n",
      "strong multicollinearity or other numerical problems.\n",
      "0.3606919690088511\n"
     ]
    },
    {
     "name": "stderr",
     "output_type": "stream",
     "text": [
      "C:\\Users\\johnl\\anaconda3\\Lib\\site-packages\\scipy\\stats\\_axis_nan_policy.py:531: UserWarning: kurtosistest only valid for n>=20 ... continuing anyway, n=10\n",
      "  res = hypotest_fun_out(*samples, **kwds)\n"
     ]
    }
   ],
   "source": [
    "data = sm.add_constant(data)\n",
    "model = sm.OLS(time_taken, data)\n",
    "result = model.fit()\n",
    "print(result.summary())\n",
    "# Next line gives the standard error\n",
    "print(result.scale**0.5)\n"
   ]
  },
  {
   "cell_type": "code",
   "execution_count": 31,
   "id": "1031d4f7-c663-4408-8a3c-c1e27357ea8f",
   "metadata": {},
   "outputs": [
    {
     "name": "stdout",
     "output_type": "stream",
     "text": [
      "[(4, 3.84), (1, 3.19), (3, 3.78), (6, 3.84), (1, 3.57), (3, 3.57), (3, 3.03), (2, 3.51), (5, 3.54), (3, 3.24)]\n"
     ]
    }
   ],
   "source": [
    "data = list(zip(number_deliveries, fuel_prices))\n",
    "print(data)"
   ]
  },
  {
   "cell_type": "code",
   "execution_count": 32,
   "id": "20f1f806-812a-456f-bc15-48e4b6a6a3e3",
   "metadata": {},
   "outputs": [
    {
     "name": "stdout",
     "output_type": "stream",
     "text": [
      "                            OLS Regression Results                            \n",
      "==============================================================================\n",
      "Dep. Variable:                      y   R-squared:                       0.883\n",
      "Model:                            OLS   Adj. R-squared:                  0.850\n",
      "Method:                 Least Squares   F-statistic:                     26.50\n",
      "Date:                Fri, 07 Feb 2025   Prob (F-statistic):           0.000543\n",
      "Time:                        09:56:02   Log-Likelihood:                -1.4969\n",
      "No. Observations:                  10   AIC:                             8.994\n",
      "Df Residuals:                       7   BIC:                             9.902\n",
      "Df Model:                           2                                         \n",
      "Covariance Type:            nonrobust                                         \n",
      "==============================================================================\n",
      "                 coef    std err          t      P>|t|      [0.025      0.975]\n",
      "------------------------------------------------------------------------------\n",
      "const          7.2313      1.498      4.829      0.002       3.690      10.772\n",
      "x1             0.5591      0.080      7.018      0.000       0.371       0.747\n",
      "x2            -0.7332      0.454     -1.614      0.150      -1.807       0.341\n",
      "==============================================================================\n",
      "Omnibus:                        1.269   Durbin-Watson:                   2.068\n",
      "Prob(Omnibus):                  0.530   Jarque-Bera (JB):                0.762\n",
      "Skew:                           0.275   Prob(JB):                        0.683\n",
      "Kurtosis:                       1.764   Cond. No.                         72.4\n",
      "==============================================================================\n",
      "\n",
      "Notes:\n",
      "[1] Standard Errors assume that the covariance matrix of the errors is correctly specified.\n",
      "0.3359096523296127\n"
     ]
    },
    {
     "name": "stderr",
     "output_type": "stream",
     "text": [
      "C:\\Users\\johnl\\anaconda3\\Lib\\site-packages\\scipy\\stats\\_axis_nan_policy.py:531: UserWarning: kurtosistest only valid for n>=20 ... continuing anyway, n=10\n",
      "  res = hypotest_fun_out(*samples, **kwds)\n"
     ]
    }
   ],
   "source": [
    "data = sm.add_constant(data)\n",
    "model = sm.OLS(time_taken, data)\n",
    "result = model.fit()\n",
    "print(result.summary())\n",
    "# Next line gives the standard error\n",
    "print(result.scale**0.5)\n"
   ]
  },
  {
   "cell_type": "markdown",
   "id": "5d9597e8-93eb-441b-b1a2-ceadd90aa05b",
   "metadata": {},
   "source": [
    "Consider the model above. If deliveries are held constant, then the travel time is expected to decrease by 0.7332 of an hour for every additional dollar increase in fuel prices. This makes no sense. The p-value of 0.15 (>>0.05) indicates that this is going to be an issue."
   ]
  },
  {
   "cell_type": "code",
   "execution_count": 33,
   "id": "123c8401-88f0-4d3f-882b-f59bc129504a",
   "metadata": {},
   "outputs": [
    {
     "name": "stdout",
     "output_type": "stream",
     "text": [
      "[(89, 4, 3.84), (66, 1, 3.19), (78, 3, 3.78), (111, 6, 3.84), (44, 1, 3.57), (77, 3, 3.57), (80, 3, 3.03), (66, 2, 3.51), (109, 5, 3.54), (76, 3, 3.24)]\n"
     ]
    }
   ],
   "source": [
    "all_data = list(zip(kilometers_travelled, number_deliveries, fuel_prices))\n",
    "print(all_data)"
   ]
  },
  {
   "cell_type": "code",
   "execution_count": 34,
   "id": "d0bc015b-1b5f-4bce-8207-659866e40009",
   "metadata": {},
   "outputs": [
    {
     "name": "stdout",
     "output_type": "stream",
     "text": [
      "                            OLS Regression Results                            \n",
      "==============================================================================\n",
      "Dep. Variable:                      y   R-squared:                       0.892\n",
      "Model:                            OLS   Adj. R-squared:                  0.838\n",
      "Method:                 Least Squares   F-statistic:                     16.48\n",
      "Date:                Fri, 07 Feb 2025   Prob (F-statistic):            0.00266\n",
      "Time:                        09:56:02   Log-Likelihood:                -1.1212\n",
      "No. Observations:                  10   AIC:                             10.24\n",
      "Df Residuals:                       6   BIC:                             11.45\n",
      "Df Model:                           3                                         \n",
      "Covariance Type:            nonrobust                                         \n",
      "==============================================================================\n",
      "                 coef    std err          t      P>|t|      [0.025      0.975]\n",
      "------------------------------------------------------------------------------\n",
      "const          6.0364      2.340      2.579      0.042       0.310      11.763\n",
      "x1             0.0153      0.022      0.684      0.519      -0.039       0.070\n",
      "x2             0.3619      0.300      1.207      0.273      -0.372       1.095\n",
      "x3            -0.5655      0.532     -1.062      0.329      -1.868       0.737\n",
      "==============================================================================\n",
      "Omnibus:                        2.928   Durbin-Watson:                   2.434\n",
      "Prob(Omnibus):                  0.231   Jarque-Bera (JB):                1.180\n",
      "Skew:                           0.426   Prob(JB):                        0.554\n",
      "Kurtosis:                       1.550   Cond. No.                     1.78e+03\n",
      "==============================================================================\n",
      "\n",
      "Notes:\n",
      "[1] Standard Errors assume that the covariance matrix of the errors is correctly specified.\n",
      "[2] The condition number is large, 1.78e+03. This might indicate that there are\n",
      "strong multicollinearity or other numerical problems.\n",
      "0.3494453779421422\n"
     ]
    },
    {
     "name": "stderr",
     "output_type": "stream",
     "text": [
      "C:\\Users\\johnl\\anaconda3\\Lib\\site-packages\\scipy\\stats\\_axis_nan_policy.py:531: UserWarning: kurtosistest only valid for n>=20 ... continuing anyway, n=10\n",
      "  res = hypotest_fun_out(*samples, **kwds)\n"
     ]
    }
   ],
   "source": [
    "data = sm.add_constant(all_data)\n",
    "model = sm.OLS(time_taken, data)\n",
    "result = model.fit()\n",
    "print(result.summary())\n",
    "# Next line gives the standard error\n",
    "print(result.scale**0.5)\n"
   ]
  },
  {
   "cell_type": "markdown",
   "id": "9f04140e-7d58-485c-b204-91103a83942d",
   "metadata": {},
   "source": [
    "How to we choose the best model?\n",
    "1. $R^2 adjusted$\n",
    "2. The standard error\n",
    "3. The AIC and BIC to be as low as possible\n",
    "4. Consider the p-value for all of the coefficients in the model. If they are not all significant this indicates a problem\n",
    "5. Consider the model. Does it make sense? Often is the coefficients are not significant the model will not make sense when you consider the problem. When the coefficients are not significant they are basically random.\n",
    "6. If the condition number is very high that is a good indicator of problems\n",
    "7. All else being equal the simplest model is the best\n",
    "\n",
    "A good exam question would be to evaluate the best model from a bunch of choices given the ANOVA."
   ]
  },
  {
   "cell_type": "markdown",
   "id": "09b25f4c-dc6d-43df-a4f4-bfea0c3c73f0",
   "metadata": {},
   "source": [
    "<b> Interval data </b>\n",
    "- Number of cars in a car park\n",
    "- Height\n",
    "- Age\n",
    "- Value of something in €\n",
    "- Weight of something\n",
    "- Temperature\n",
    "\n",
    "<b>Categorical data </b>\n",
    "- Day of the week\n",
    "- Gender\n",
    "- Types of cuisines\n",
    "- True/False\n",
    "- Colour\n",
    "- North/South/East/West\n",
    "- Places Drogheda/Dundalk\n",
    "- Brands"
   ]
  },
  {
   "cell_type": "markdown",
   "id": "995b6e8e-41e5-4215-bac6-05fd6d3fb463",
   "metadata": {},
   "source": [
    "You are an analyst for a small company that develops house pricing models for independent auctioneers. We will use publicly available datasets such as list price, square footage, number of bedrooms, number of bathrooms etc. We are also interested in another question: Is the local secondary school excellent or not and how is this related to house prices?\n",
    "\n",
    "School rating is not quantitative, it is qualitative. For each home, the school is either excellent or not excellent.\n",
    "\n",
    "<table>\n",
    "    <tr>\n",
    "    <th>price 1000s</th>\n",
    "    <th>sqrt</th>\n",
    "    <th>excellent</th>\n",
    "    </tr>\n",
    "    <tr>\n",
    "    <th>145</th>\n",
    "    <th>1872</th>\n",
    "    <th>0</th>\n",
    "    </tr>\n",
    "    <tr>\n",
    "    <th>69.9</th>\n",
    "    <th>1954</th>\n",
    "    <th>0</th>\n",
    "    </tr>\n",
    "    <tr>\n",
    "    <th>315</th>\n",
    "    <th>4104</th>\n",
    "    <th>1</th>\n",
    "    </tr>\n",
    "    <tr>\n",
    "    <th>144.9</th>\n",
    "    <th>1524</th>\n",
    "    <th>0</th>\n",
    "    </tr>\n",
    "    <tr>\n",
    "    <th>134.9</th>\n",
    "    <th>1297</th>\n",
    "    <th>0</th>\n",
    "    </tr>\n",
    "    <tr>\n",
    "    <th>369</th>\n",
    "    <th>3278</th>\n",
    "    <th>1</th>\n",
    "    </tr>\n",
    "    <tr>\n",
    "    <th>95</th>\n",
    "    <th>1192</th>\n",
    "    <th>0</th>\n",
    "    </tr>\n",
    "    <tr>\n",
    "    <th>228.9</th>\n",
    "    <th>2252</th>\n",
    "    <th>1</th>\n",
    "    </tr>\n",
    "    <tr>\n",
    "    <th>149</th>\n",
    "    <th>1620</th>\n",
    "    <th>0</th>\n",
    "    </tr>\n",
    "    <tr>\n",
    "    <th>295</th>\n",
    "    <th>2466</th>\n",
    "    <th>1</th>\n",
    "    </tr>\n",
    "    <tr>\n",
    "    <th>388.5</th>\n",
    "    <th>3188</th>\n",
    "    <th>1</th>\n",
    "    </tr>\n",
    "    <tr>\n",
    "    <th>75</th>\n",
    "    <th>1061</th>\n",
    "    <th>0</th>\n",
    "    </tr>\n",
    "    <tr>\n",
    "    <th>130</th>\n",
    "    <th>1195</th>\n",
    "    <th>0</th>\n",
    "    </tr>\n",
    "    <tr>\n",
    "    <th>174</th>\n",
    "    <th>1552</th>\n",
    "    <th>1</th>\n",
    "    </tr>\n",
    "    <tr>\n",
    "    <th>334.9</th>\n",
    "    <th>2901</th>\n",
    "    <th>1</th>\n",
    "    </tr>\n",
    "</table>\n"
   ]
  },
  {
   "cell_type": "code",
   "execution_count": 35,
   "id": "56be1355-00a9-48a3-8171-cd9fe1c8a277",
   "metadata": {},
   "outputs": [],
   "source": [
    "prices = [145, 69.9, 315, 144.9, 134.9, 369, 95, 228.9, 149, 295, 388.5, 75, 130, 174, 334.9]\n",
    "sqft = [1872, 1954, 4104, 1524, 1297, 3278, 1192, 2252, 1620, 2466, 3188, 1061, 1195, 1552, 2901]\n",
    "excellent = [0, 0, 1, 0, 0, 1, 0, 1, 0, 1, 1, 0, 0, 1, 1]"
   ]
  },
  {
   "cell_type": "code",
   "execution_count": 36,
   "id": "fe8aa8f7-9bec-4675-a5c9-fb44ccae8c97",
   "metadata": {},
   "outputs": [
    {
     "name": "stdout",
     "output_type": "stream",
     "text": [
      "15\n",
      "15\n",
      "15\n"
     ]
    }
   ],
   "source": [
    "print(len(prices))\n",
    "print(len(sqft))\n",
    "print(len(excellent))"
   ]
  },
  {
   "cell_type": "code",
   "execution_count": 38,
   "id": "c291fec7-5ff6-48de-b006-2dad93f72e75",
   "metadata": {},
   "outputs": [
    {
     "data": {
      "text/plain": [
       "<matplotlib.legend.Legend at 0x1d41a814560>"
      ]
     },
     "execution_count": 38,
     "metadata": {},
     "output_type": "execute_result"
    },
    {
     "data": {
      "image/png": "[encoded data removed]",
      "text/plain": [
       "<Figure size 640x480 with 1 Axes>"
      ]
     },
     "metadata": {},
     "output_type": "display_data"
    }
   ],
   "source": [
    "names = [\"Not Excellent\", \"Excellent\"]\n",
    "plt.title(\"sqft vs prices\")\n",
    "plt.xlabel(\"sqft\")\n",
    "plt.ylabel(\"price\")\n",
    "scatter = plt.scatter(sqft, prices, c=excellent)\n",
    "plt.legend(handles=scatter.legend_elements()[0], labels=names, title=\"School\")"
   ]
  },
  {
   "cell_type": "markdown",
   "id": "0d74d467-a764-439b-b235-469300ba8c36",
   "metadata": {},
   "source": [
    "$E(y) = \\beta_0 + \\beta_1x_1 + \\beta_2x_2$\n",
    "\n",
    "What is the expected value of a house given that the secondary school is not excellent?\n",
    "$E(y) = \\beta_0 + \\beta_1x_1$, $x_2$ disappears because its value is 0.\n",
    "\n",
    "What about if the secondary school is excellent?\n",
    "$E(y) = \\beta_0 + \\beta_2 + \\beta_1x_1$"
   ]
  },
  {
   "cell_type": "code",
   "execution_count": 41,
   "id": "fb337a06-3c2f-4c74-a1dd-830bd9090a63",
   "metadata": {},
   "outputs": [
    {
     "name": "stdout",
     "output_type": "stream",
     "text": [
      "[(1872, 0), (1954, 0), (4104, 1), (1524, 0), (1297, 0), (3278, 1), (1192, 0), (2252, 1), (1620, 0), (2466, 1), (3188, 1), (1061, 0), (1195, 0), (1552, 1), (2901, 1)]\n"
     ]
    }
   ],
   "source": [
    "all_data = list(zip(sqft, excellent))\n",
    "print(all_data)"
   ]
  },
  {
   "cell_type": "code",
   "execution_count": 42,
   "id": "5515d4c2-290c-4492-8146-419b1b160ee1",
   "metadata": {},
   "outputs": [
    {
     "name": "stdout",
     "output_type": "stream",
     "text": [
      "PearsonRResult(statistic=0.8759315035246668, pvalue=1.8639610408189288e-05)\n"
     ]
    }
   ],
   "source": [
    "corr = pearsonr(sqft, prices)\n",
    "print(corr)"
   ]
  },
  {
   "cell_type": "code",
   "execution_count": 43,
   "id": "a4e4e1d0-684d-456b-9d2a-0de48a14ace6",
   "metadata": {},
   "outputs": [
    {
     "data": {
      "image/png": "[encoded data removed]",
      "text/plain": [
       "<Figure size 640x480 with 1 Axes>"
      ]
     },
     "metadata": {},
     "output_type": "display_data"
    }
   ],
   "source": [
    "plt.title(\"excellent vs prices\")\n",
    "plt.xlabel(\"excellent\")\n",
    "plt.ylabel(\"price\")\n",
    "scatter = plt.scatter(excellent, prices)"
   ]
  },
  {
   "cell_type": "code",
   "execution_count": 44,
   "id": "7df9ade4-780a-4e84-9c87-628ea9e0e927",
   "metadata": {},
   "outputs": [
    {
     "name": "stdout",
     "output_type": "stream",
     "text": [
      "PearsonRResult(statistic=0.8635845284265353, pvalue=3.3479374952946834e-05)\n"
     ]
    }
   ],
   "source": [
    "corr = pearsonr(excellent, prices)\n",
    "print(corr)"
   ]
  },
  {
   "cell_type": "code",
   "execution_count": 45,
   "id": "8c23346c-c900-4957-8170-5a7de5335f30",
   "metadata": {},
   "outputs": [
    {
     "data": {
      "image/png": "[encoded data removed]",
      "text/plain": [
       "<Figure size 640x480 with 1 Axes>"
      ]
     },
     "metadata": {},
     "output_type": "display_data"
    }
   ],
   "source": [
    "plt.title(\"excellent vs sqft\")\n",
    "plt.xlabel(\"excellent\")\n",
    "plt.ylabel(\"sqft\")\n",
    "scatter = plt.scatter(excellent, sqft)"
   ]
  },
  {
   "cell_type": "code",
   "execution_count": 46,
   "id": "d4451bb2-51c5-43e8-b876-07e820d4e898",
   "metadata": {},
   "outputs": [
    {
     "name": "stdout",
     "output_type": "stream",
     "text": [
      "PearsonRResult(statistic=0.7661862567685486, pvalue=0.0008651060102603356)\n"
     ]
    }
   ],
   "source": [
    "corr = pearsonr(excellent, sqft)\n",
    "print(corr)"
   ]
  },
  {
   "cell_type": "code",
   "execution_count": 40,
   "id": "f63d9acc-a33c-48f6-9a8c-fa718391b590",
   "metadata": {},
   "outputs": [
    {
     "name": "stdout",
     "output_type": "stream",
     "text": [
      "                            OLS Regression Results                            \n",
      "==============================================================================\n",
      "Dep. Variable:                      y   R-squared:                       0.857\n",
      "Model:                            OLS   Adj. R-squared:                  0.833\n",
      "Method:                 Least Squares   F-statistic:                     35.94\n",
      "Date:                Fri, 07 Feb 2025   Prob (F-statistic):           8.57e-06\n",
      "Time:                        10:22:13   Log-Likelihood:                -76.595\n",
      "No. Observations:                  15   AIC:                             159.2\n",
      "Df Residuals:                      12   BIC:                             161.3\n",
      "Df Model:                           2                                         \n",
      "Covariance Type:            nonrobust                                         \n",
      "==============================================================================\n",
      "                 coef    std err          t      P>|t|      [0.025      0.975]\n",
      "------------------------------------------------------------------------------\n",
      "const         27.0749     33.690      0.804      0.437     -46.329     100.479\n",
      "x1             0.0621      0.020      3.054      0.010       0.018       0.106\n",
      "x2            98.6479     35.963      2.743      0.018      20.291     177.005\n",
      "==============================================================================\n",
      "Omnibus:                        1.194   Durbin-Watson:                   1.853\n",
      "Prob(Omnibus):                  0.551   Jarque-Bera (JB):                1.018\n",
      "Skew:                          -0.520   Prob(JB):                        0.601\n",
      "Kurtosis:                       2.260   Cond. No.                     8.35e+03\n",
      "==============================================================================\n",
      "\n",
      "Notes:\n",
      "[1] Standard Errors assume that the covariance matrix of the errors is correctly specified.\n",
      "[2] The condition number is large, 8.35e+03. This might indicate that there are\n",
      "strong multicollinearity or other numerical problems.\n",
      "44.65395074137937\n"
     ]
    },
    {
     "name": "stderr",
     "output_type": "stream",
     "text": [
      "C:\\Users\\johnl\\anaconda3\\Lib\\site-packages\\scipy\\stats\\_axis_nan_policy.py:531: UserWarning: kurtosistest only valid for n>=20 ... continuing anyway, n=15\n",
      "  res = hypotest_fun_out(*samples, **kwds)\n"
     ]
    }
   ],
   "source": [
    "all_data = sm.add_constant(all_data)\n",
    "model = sm.OLS(prices, all_data)\n",
    "result = model.fit()\n",
    "print(result.summary())\n",
    "print(result.scale**0.5)"
   ]
  },
  {
   "cell_type": "markdown",
   "id": "ff64c490-c86f-4972-ad37-798b2449faf4",
   "metadata": {},
   "source": [
    "<b>Coefficients </b>\n",
    "- sqft: Every square foot is related to an increase in price of €62.10 per square foot\n",
    "- excellent: on average, a home in an area with an excellent secondary school is related to an increase in price of €98,648\n",
    "\n",
    "<b> Multiple Linear Regression with 2 categorical variables</b>\n",
    "\n",
    "We want to answer two questions:\n",
    "- Is the secondary school in the region excellent and how does it affect house price?\n",
    "- What region (N/S/E/W) of the city is the house located and how is that related to house price?"
   ]
  },
  {
   "cell_type": "code",
   "execution_count": 47,
   "id": "77bb98ce-9bf7-4fd5-997b-97376fbd4b53",
   "metadata": {},
   "outputs": [],
   "source": [
    "price = [89, 95, 110, 125, 130, 131, 136, 136, 137, 137, 140, 140, 145, 147, 147, 148, 150, 153, 153, 154, 156, 158, 160, 160, 160, 162, 162, 164, 164, 166, 168, 169, 170, 170, 171, 173, 173, 174, 175, 175, 175, 177, 178, 178, 178, 182, 184, 184, 184, 185, 186, 186, 187, 188, 189, 189, 190, 190, 190, 192, 193, 194, 195, 196, 200, 201, 203, 203, 207, 210, 216, 217, 218, 225, 230, 233, 234, 237, 245, 250, 253, 256, 260, 286, 289, 290, 299, 307, 310, 312, 322, 332, 371, 377, 383, 387, 398, 404, 412, 450]\n",
    "\n",
    "sqft = [1097, 1505, 1170, 1605, 1787, 2114, 2288, 1731, 2546, 2043, 2455, 2036, 2131, 2641, 2604, 1733, 1683, 2162, 1978, 2112, 2819, 2370, 2515, 2267, 1796, 2771, 2367, 2753, 1980, 2150, 2488, 2274, 2299, 1936, 2414, 2162, 1770, 2007, 2558, 2053, 1764, 2643, 2719, 2692, 1826, 2357, 2647, 2601, 1895, 1943, 2466, 2289, 2248, 2326, 2804, 2686, 2578, 2415, 1845, 2504, 1944, 1814, 2536, 2591, 2902, 1784, 2465, 2341, 2496, 2878, 2573, 2830, 2094, 2027, 2906, 2456, 2409, 3018, 3401, 2953, 2994, 2957, 3312, 2918, 3601, 3213, 2908, 3643, 3485, 3041, 3109, 3207, 3052, 3124, 3076, 3032, 3787, 3073, 3681, 3860]\n",
    "\n",
    "excellent = [0, 0, 0, 0, 1, 0, 0, 0, 0, 0, 0, 0, 0, 0, 0, 0, 1, 0, 0, 0, 0, 0, 0, 0, 0, 0, 0, 0, 0, 0, 0, 0, 1, 1, 0, 1, 1, 0, 1, 1, 0, 1, 0, 0, 0, 0, 1, 1, 0, 0, 1, 1, 1, 1, 1, 1, 1, 1, 1, 1, 1, 1, 1, 1, 0, 0, 1, 1, 1, 0, 1, 1, 1, 1, 1, 1, 1, 1, 1, 1, 0, 0, 0, 1, 1, 1, 0, 1, 1, 1, 1, 1, 1, 1, 1, 0, 1, 1, 1, 1]\n",
    "\n",
    "region = [\"East\", \"East\", \"West\", \"South\", \"West\", \"South\", \"North\", \"West\", \"North\", \"West\", \"South\", \"South\", \"South\", \"North\", \"West\", \"North\", \"West\", \"South\", \"East\", \"North\", \"North\", \"East\", \"North\", \"South\", \"West\", \"West\", \"North\", \"East\", \"South\", \"East\", \"North\", \"South\", \"West\", \"South\", \"North\", \"West\", \"East\", \"North\", \"North\", \"East\", \"West\", \"West\", \"North\", \"East\", \"West\", \"South\", \"West\", \"South\", \"East\", \"South\", \"North\", \"East\", \"West\", \"South\", \"South\", \"West\", \"East\", \"East\", \"North\", \"West\", \"East\", \"South\", \"East\", \"West\", \"East\", \"East\", \"West\", \"East\", \"South\", \"East\", \"West\", \"South\", \"North\", \"South\", \"North\", \"South\", \"North\", \"East\", \"East\", \"East\", \"West\", \"North\", \"West\", \"West\", \"South\", \"South\", \"East\", \"East\", \"North\", \"South\", \"East\", \"West\", \"West\", \"West\", \"North\", \"South\", \"West\", \"South\", \"North\", \"North\"\n",
    "]"
   ]
  },
  {
   "cell_type": "code",
   "execution_count": 48,
   "id": "dbc1c46c-4baa-440d-a026-5aecd5723e6f",
   "metadata": {},
   "outputs": [
    {
     "name": "stdout",
     "output_type": "stream",
     "text": [
      "100\n",
      "100\n",
      "100\n",
      "100\n"
     ]
    }
   ],
   "source": [
    "print(len(price))\n",
    "print(len(sqft))\n",
    "print(len(excellent))\n",
    "print(len(region))\n"
   ]
  },
  {
   "cell_type": "code",
   "execution_count": null,
   "id": "b8f54753-4db0-4c13-b767-b5b55f1be4c8",
   "metadata": {},
   "outputs": [],
   "source": [
    "# Find the sqft and price for all excellent and not excellent\n",
    "ne_sqft = []\n",
    "ne_price = []\n",
    "e_sqft = []\n",
    "e_price = []\n",
    "for i in range(len(excellent)):\n",
    "    if excellent[i] == 0:\n",
    "        ne_sqft.append(sqft[i])\n",
    "        ne_price.append(price[i])\n",
    "    else:\n",
    "        e_sqft.append(sqft[i])\n",
    "        e_price.append(price[i])\n"
   ]
  }
 ],
 "metadata": {
  "kernelspec": {
   "display_name": "Python 3 (ipykernel)",
   "language": "python",
   "name": "python3"
  },
  "language_info": {
   "codemirror_mode": {
    "name": "ipython",
    "version": 3
   },
   "file_extension": ".py",
   "mimetype": "text/x-python",
   "name": "python",
   "nbconvert_exporter": "python",
   "pygments_lexer": "ipython3",
   "version": "3.12.4"
  }
 },
 "nbformat": 4,
 "nbformat_minor": 5
}
