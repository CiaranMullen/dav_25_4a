{
 "cells": [
  {
   "cell_type": "markdown",
   "id": "a7fd3c13-5d57-4486-b03a-08544a46fa78",
   "metadata": {},
   "source": [
    "<b> Assumption that you have covered linear regression </b>"
   ]
  },
  {
   "cell_type": "markdown",
   "id": "e7ba770b-bfc6-4672-8abd-a377c9d94ada",
   "metadata": {},
   "source": [
    "# Multiple Linear Regression"
   ]
  },
  {
   "cell_type": "markdown",
   "id": "231ac58d-5cfb-4722-90f2-c5026dd8a72b",
   "metadata": {},
   "source": [
    "A delivery service offers the same delivery for letters, packages and small cargo. You are able to use Google maps to group deliveries into one trip. Some trips have more than one delivery. You would like to estimate how long a delivery will take based on:\n",
    "\n",
    "1. Total distance of the trip in kilometers\n",
    "2. The number of deliveries that must be made\n",
    "   \n",
    "To conduct the analysis take a random sample of 10 past trips and record:\n",
    "\n",
    "1. Total kilometers travelled\n",
    "2. Number of delivers\n",
    "3. Total time in hours\n",
    "\n",
    "<table>\n",
    "    <tr>\n",
    "    <th>kmTravelled</th>\n",
    "    <th>deliveries</th>\n",
    "    <th>time</th>\n",
    "    </tr>\n",
    "    <tr>\n",
    "    <th>89</th>\n",
    "    <th>4</th>\n",
    "    <th>7</th>\n",
    "    </tr>\n",
    "    <tr>\n",
    "    <th>66</th>\n",
    "    <th>1</th>\n",
    "    <th>5.4</th>\n",
    "    </tr>\n",
    "    <tr>\n",
    "    <th>78</th>\n",
    "    <th>3</th>\n",
    "    <th>6.6</th>\n",
    "    </tr>\n",
    "    <tr>\n",
    "    <th>111</th>\n",
    "    <th>6</th>\n",
    "    <th>7.4</th>\n",
    "    </tr>\n",
    "    <tr>\n",
    "    <th>44</th>\n",
    "    <th>1</th>\n",
    "    <th>4.8</th>\n",
    "    </tr>\n",
    "    <tr>\n",
    "    <th>77</th>\n",
    "    <th>3</th>\n",
    "    <th>6.4</th>\n",
    "    </tr>\n",
    "    <tr>\n",
    "    <th>80</th>\n",
    "    <th>3</th>\n",
    "    <th>7</th>\n",
    "    </tr>\n",
    "    <tr>\n",
    "    <th>66</th>\n",
    "    <th>2</th>\n",
    "    <th>5.4</th>\n",
    "    </tr>\n",
    "    <tr>\n",
    "    <th>109</th>\n",
    "    <th>5</th>\n",
    "    <th>7.3</th>\n",
    "    </tr>\n",
    "    <tr>\n",
    "    <th>76</th>\n",
    "    <th>3</th>\n",
    "    <th>6.4</th>\n",
    "    </tr>\n",
    "</table>\n",
    "\n",
    "In what way does travel time depend on the other two variables?\n",
    "\n",
    "Travel time is the dependent variable and kilometers travelled and number of deliveries are the independent variables. \n",
    "Dependent = Response, Independent = Predictor\n",
    "\n",
    "New considerations when moving from simple to multiple regression:\n",
    "1. Adding more independent variables to a multiple regression does not mean that the regression is better or that it will give better predictions, in fact it can be worse. This is called OVERFITTING\n",
    "2. The addition of more independent variables creates more relationships between them. So not only do we need to consider the independent variables and the dependent variables, we also need to consider the relationship between the independent variables. This is called MULTICOLINEARITY.\n",
    "3. The ideal is for all independent variables to be correlated with the dependent variable and NOT with each other.\n",
    "4. Because of overfitting and mutlicolinearity, there is a lot of prep work before we start multiple regression.\n",
    "   \n",
    "   - Scatterplots\n",
    "   - Correlations\n",
    "   - Simple regressions between each of the independent variables and the dependent variables to see how they are related\n",
    "  \n",
    "Important to consider which independent variables make the cut. Some independent or sets of independent variables are better at predicting the dependent variables than others. Some contribute nothing.\n",
    "\n",
    "Mutliple regression model: $\\beta_0 + \\beta_1x_1+\\beta_2x_2+\\dots+\\beta_px_p + \\epsilon$\n",
    "\n",
    "$y = 27 + 9x_1 + 12 x_2$\n",
    "\n",
    "- x_1 = capital investment (€1000s)\n",
    "- x_2 = marketing expenses (€1000s)\n",
    "- y = predicted sales (€1000s)\n",
    "\n",
    "Each coefficient (9, 12) is interpreted as the estimate in y corresponding to a 1 unit change in variable when all other variables are held fixed.\n",
    "\n",
    "€9000 is an estimate of the expected increase in sales y, corresponding to a €1000 increase in capital investment $x_1$ when marketing expenditure $x_2$ is held fixed\n",
    "\n",
    "As the owner you would like to estimate how long a delivery will take based on three factors:\n",
    "- The total distance of the trip in kilometers\n",
    "- The number of deliveries\n",
    "- The fuel price in €\n",
    "\n",
    "Nice exam question. Conducting multiple regression requires the following steps:\n",
    "1. Generate a list of independent and dependent variables\n",
    "2. Collect data on the variables\n",
    "3. Check for outliers\n",
    "4. Check the relationships between each independent variable and the dependent variable using scatterplots and correlations\n",
    "5. Check the relationships between the independent variables using scatterplots and correlations\n",
    "6. Conduct simple linear regressions for each IV/DV pair\n",
    "7. Use the non-redundant independent variables in the analysis to find the best fitting model\n",
    "8. Use the best fitting model to make predictions about the dependent variable\n",
    "\n",
    "<table>\n",
    "    <tr>\n",
    "    <th>kmTravelled</th>\n",
    "    <th>deliveries</th>\n",
    "    <th>fuel_prices</th>\n",
    "    <th>time</th>\n",
    "    </tr>\n",
    "    <tr>\n",
    "    <th>89</th>\n",
    "    <th>4</th>\n",
    "    <th>3.84</th>\n",
    "    <th>7</th>\n",
    "    </tr>\n",
    "    <tr>\n",
    "    <th>66</th>\n",
    "    <th>1</th>\n",
    "    <th>3.19</th>\n",
    "    <th>5.4</th>\n",
    "    </tr>\n",
    "    <tr>\n",
    "    <th>78</th>\n",
    "    <th>3</th>\n",
    "    <th>3.78</th>\n",
    "    <th>6.6</th>\n",
    "    </tr>\n",
    "    <tr>\n",
    "    <th>111</th>\n",
    "    <th>6</th>\n",
    "    <th>3.89</th>\n",
    "    <th>7.4</th>\n",
    "    </tr>\n",
    "    <tr>\n",
    "    <th>44</th>\n",
    "    <th>1</th>\n",
    "    <th>3.57</th>\n",
    "    <th>4.8</th>\n",
    "    </tr>\n",
    "    <tr>\n",
    "    <th>77</th>\n",
    "    <th>3</th>\n",
    "    <th>3.57</th>\n",
    "    <th>6.4</th>\n",
    "    </tr>\n",
    "    <tr>\n",
    "    <th>80</th>\n",
    "    <th>3</th>\n",
    "    <th>3.03</th>\n",
    "    <th>7</th>\n",
    "    </tr>\n",
    "    <tr>\n",
    "    <th>66</th>\n",
    "    <th>2</th>\n",
    "    <th>3.51</th>\n",
    "    <th>5.4</th>\n",
    "    </tr>\n",
    "    <tr>\n",
    "    <th>109</th>\n",
    "    <th>5</th>\n",
    "    <th>3.54</th>\n",
    "    <th>7.3</th>\n",
    "    </tr>\n",
    "    <tr>\n",
    "    <th>76</th>\n",
    "    <th>3</th>\n",
    "    <th>3.25</th>\n",
    "    <th>6.4</th>\n",
    "    </tr>\n",
    "</table>\n"
   ]
  },
  {
   "cell_type": "code",
   "execution_count": 1,
   "id": "0dc3873b-3afb-4163-939a-431ce0b84f8c",
   "metadata": {},
   "outputs": [],
   "source": [
    "kilometers_travelled = [89, 66, 78, 111, 44, 77, 80, 66, 109, 76]\n",
    "time_taken = [7, 5.4, 6.6, 7.4, 4.8, 6.4, 7, 5.6, 7.3, 6.4]"
   ]
  },
  {
   "cell_type": "code",
   "execution_count": 3,
   "id": "4079ac60-17b5-47a7-b2df-14c739e1e75a",
   "metadata": {},
   "outputs": [
    {
     "data": {
      "text/plain": [
       "[<matplotlib.lines.Line2D at 0x200770b19d0>]"
      ]
     },
     "execution_count": 3,
     "metadata": {},
     "output_type": "execute_result"
    },
    {
     "data": {
      "image/png": "[encoded data removed]",
      "text/plain": [
       "<Figure size 640x480 with 1 Axes>"
      ]
     },
     "metadata": {},
     "output_type": "display_data"
    }
   ],
   "source": [
    "from matplotlib import pyplot as plt\n",
    "import numpy as np\n",
    "plt.title(\"kilometers_travelled v time_taken\")\n",
    "plt.xlabel(\"kilometers_travelled\")\n",
    "plt.ylabel(\"time_taken\")\n",
    "plt.scatter(kilometers_travelled, time_taken)\n",
    "plt.plot(np.unique(kilometers_travelled), \n",
    "         np.poly1d(np.polyfit(kilometers_travelled, time_taken,1))(np.unique(kilometers_travelled)))"
   ]
  },
  {
   "cell_type": "code",
   "execution_count": 4,
   "id": "bdf29f7f-c996-410f-b322-9ee243cc3a29",
   "metadata": {},
   "outputs": [],
   "source": [
    "number_deliveries = [4, 1, 3, 6, 1, 3, 3, 2, 5, 3]"
   ]
  },
  {
   "cell_type": "code",
   "execution_count": 5,
   "id": "3b6f5cf5-3984-4e84-86b8-e4a201304227",
   "metadata": {},
   "outputs": [
    {
     "data": {
      "text/plain": [
       "[<matplotlib.lines.Line2D at 0x200785dc530>]"
      ]
     },
     "execution_count": 5,
     "metadata": {},
     "output_type": "execute_result"
    },
    {
     "data": {
      "image/png": "[encoded data removed]",
      "text/plain": [
       "<Figure size 640x480 with 1 Axes>"
      ]
     },
     "metadata": {},
     "output_type": "display_data"
    }
   ],
   "source": [
    "plt.title(\"number_deliveries v time_taken\")\n",
    "plt.xlabel(\"number_deliveries\")\n",
    "plt.ylabel(\"time_taken\")\n",
    "plt.scatter(number_deliveries, time_taken)\n",
    "plt.plot(np.unique(number_deliveries), np.poly1d(np.polyfit(number_deliveries, time_taken,1))(np.unique(number_deliveries)))"
   ]
  },
  {
   "cell_type": "code",
   "execution_count": 6,
   "id": "6f07075a-0174-4dd4-a607-b1e1cde8a0ad",
   "metadata": {},
   "outputs": [],
   "source": [
    "fuel_prices = [3.84, 3.19, 3.78, 3.84, 3.57, 3.57, 3.03, 3.51, 3.54, 3.24]"
   ]
  },
  {
   "cell_type": "code",
   "execution_count": 7,
   "id": "390150a0-6ba0-422f-8718-25905ccd90f4",
   "metadata": {},
   "outputs": [
    {
     "data": {
      "text/plain": [
       "[<matplotlib.lines.Line2D at 0x200760dc890>]"
      ]
     },
     "execution_count": 7,
     "metadata": {},
     "output_type": "execute_result"
    },
    {
     "data": {
      "image/png": "[encoded data removed]",
      "text/plain": [
       "<Figure size 640x480 with 1 Axes>"
      ]
     },
     "metadata": {},
     "output_type": "display_data"
    }
   ],
   "source": [
    "plt.title(\"fuel_prices v time_taken\")\n",
    "plt.xlabel(\"fuel_prices\")\n",
    "plt.ylabel(\"time_taken\")\n",
    "plt.scatter(fuel_prices, time_taken)\n",
    "plt.plot(np.unique(fuel_prices), np.poly1d(np.polyfit(fuel_prices, time_taken,1))(np.unique(fuel_prices)))"
   ]
  },
  {
   "cell_type": "markdown",
   "id": "301ee8a3-4095-4b19-9b0c-b8f176802d1b",
   "metadata": {},
   "source": [
    "<b>Scatterplot summary </b>\n",
    "- travel time appears highly correlated with kiometers travelled\n",
    "- travel time appears highly corrleated with the number of deliveries\n",
    "- travel time does not appear to be correlated with fuel prices\n",
    "\n",
    "Since fuel prices does not appear to be correlated with time taken we would not use this variable in the regression. I am going to leave it in to show you what happens. If I wasn't teaching I would throw it away at this point.\n",
    "\n",
    "Next we need to look at IV to IV scatterplots"
   ]
  },
  {
   "cell_type": "code",
   "execution_count": 8,
   "id": "266a764f-4841-473f-b873-ee5be70f9ed9",
   "metadata": {},
   "outputs": [
    {
     "data": {
      "text/plain": [
       "[<matplotlib.lines.Line2D at 0x20078637c20>]"
      ]
     },
     "execution_count": 8,
     "metadata": {},
     "output_type": "execute_result"
    },
    {
     "data": {
      "image/png": "[encoded data removed]",
      "text/plain": [
       "<Figure size 640x480 with 1 Axes>"
      ]
     },
     "metadata": {},
     "output_type": "display_data"
    }
   ],
   "source": [
    "plt.title(\"kilometers_travelled v number_deliveries\")\n",
    "plt.xlabel(\"kilometers_travelled\")\n",
    "plt.ylabel(\"number_deliveries\")\n",
    "plt.scatter(kilometers_travelled, number_deliveries)\n",
    "plt.plot(np.unique(kilometers_travelled), np.poly1d(np.polyfit(kilometers_travelled, number_deliveries,1))(np.unique(kilometers_travelled)))"
   ]
  },
  {
   "cell_type": "code",
   "execution_count": 9,
   "id": "d6799e6e-1a83-4f10-8d84-94981a411ab9",
   "metadata": {},
   "outputs": [
    {
     "data": {
      "text/plain": [
       "[<matplotlib.lines.Line2D at 0x20077cc84d0>]"
      ]
     },
     "execution_count": 9,
     "metadata": {},
     "output_type": "execute_result"
    },
    {
     "data": {
      "image/png": "[encoded data removed]",
      "text/plain": [
       "<Figure size 640x480 with 1 Axes>"
      ]
     },
     "metadata": {},
     "output_type": "display_data"
    }
   ],
   "source": [
    "plt.title(\"kilometers_travelled v fuel_prices\")\n",
    "plt.xlabel(\"kilometers_travelled\")\n",
    "plt.ylabel(\"fuel_prices\")\n",
    "plt.scatter(kilometers_travelled, fuel_prices)\n",
    "plt.plot(np.unique(kilometers_travelled), np.poly1d(np.polyfit(kilometers_travelled, fuel_prices,1))(np.unique(kilometers_travelled)))"
   ]
  },
  {
   "cell_type": "code",
   "execution_count": 10,
   "id": "fb427463-2501-472e-b0c6-7e21b24ae541",
   "metadata": {},
   "outputs": [
    {
     "data": {
      "text/plain": [
       "[<matplotlib.lines.Line2D at 0x20077d1b530>]"
      ]
     },
     "execution_count": 10,
     "metadata": {},
     "output_type": "execute_result"
    },
    {
     "data": {
      "image/png": "[encoded data removed]",
      "text/plain": [
       "<Figure size 640x480 with 1 Axes>"
      ]
     },
     "metadata": {},
     "output_type": "display_data"
    }
   ],
   "source": [
    "plt.title(\"number_deliveries v fuel_prices\")\n",
    "plt.xlabel(\"number_deliveries\")\n",
    "plt.ylabel(\"fuel_prices\")\n",
    "plt.scatter(number_deliveries, fuel_prices)\n",
    "plt.plot(np.unique(number_deliveries), np.poly1d(np.polyfit(number_deliveries, fuel_prices,1))(np.unique(number_deliveries)))"
   ]
  },
  {
   "cell_type": "markdown",
   "id": "cd82fe43-cd4e-4ac6-98c9-8f72f6f30b12",
   "metadata": {},
   "source": [
    "<b> IV to IV Scatterplots </b>\n",
    "1. number_deliveries is highly correlated with kilometers travelled (multicolinearity - BAD)\n",
    "2. kilometers travelled does not appear correlated with fuel prices\n",
    "3. number_deliveries does not appear correlated with fuel prices\n",
    "\n",
    "Since the number_deliveries is highly correlated with kilometers_travelled, I would not use both. They are redundant. For I now keep both."
   ]
  },
  {
   "cell_type": "code",
   "execution_count": 11,
   "id": "b654e72e-2e9a-4090-b16c-0f32dac26872",
   "metadata": {},
   "outputs": [],
   "source": [
    "from scipy.stats import pearsonr"
   ]
  },
  {
   "cell_type": "code",
   "execution_count": 13,
   "id": "6e4cc48f-f7e2-4ad7-91f9-ecf3895c6aa4",
   "metadata": {},
   "outputs": [
    {
     "name": "stdout",
     "output_type": "stream",
     "text": [
      "PearsonRResult(statistic=0.9281785008874762, pvalue=0.00010667565429896544)\n"
     ]
    }
   ],
   "source": [
    "corr = pearsonr(kilometers_travelled, time_taken)\n",
    "print(corr)"
   ]
  },
  {
   "cell_type": "markdown",
   "id": "e2c0a15e-db7e-44e1-a6f6-d8dfd0b867bb",
   "metadata": {},
   "source": [
    "First value is the correlation (very high in this case). Second value is the p-value. That is the probability that this is a random occurrence.\n",
    "If the p-value is below 0.05 we say that it is statistically significant."
   ]
  },
  {
   "cell_type": "code",
   "execution_count": 14,
   "id": "cd2798cf-2346-4c8d-a004-555c46cc6e36",
   "metadata": {},
   "outputs": [
    {
     "name": "stdout",
     "output_type": "stream",
     "text": [
      "PearsonRResult(statistic=0.9164433964470269, pvalue=0.00019260878342962958)\n"
     ]
    }
   ],
   "source": [
    "corr = pearsonr(number_deliveries, time_taken)\n",
    "print(corr)"
   ]
  },
  {
   "cell_type": "code",
   "execution_count": 15,
   "id": "d8cd6e27-5f28-40d2-a5f6-1f9ce7ed9218",
   "metadata": {},
   "outputs": [
    {
     "name": "stdout",
     "output_type": "stream",
     "text": [
      "PearsonRResult(statistic=0.2496183502471128, pvalue=0.4867301351389117)\n"
     ]
    }
   ],
   "source": [
    "corr = pearsonr(fuel_prices, time_taken)\n",
    "print(corr)"
   ]
  },
  {
   "cell_type": "code",
   "execution_count": 16,
   "id": "db23ada4-5c6d-424e-8f6e-379c8392c74d",
   "metadata": {},
   "outputs": [
    {
     "name": "stdout",
     "output_type": "stream",
     "text": [
      "PearsonRResult(statistic=0.9558982066200346, pvalue=1.569031440766093e-05)\n"
     ]
    }
   ],
   "source": [
    "corr = pearsonr(kilometers_travelled,number_deliveries)\n",
    "print(corr)"
   ]
  },
  {
   "cell_type": "code",
   "execution_count": 17,
   "id": "da843fde-6da5-435c-8b9f-16cb62838e01",
   "metadata": {},
   "outputs": [
    {
     "name": "stdout",
     "output_type": "stream",
     "text": [
      "PearsonRResult(statistic=0.33275636821052534, pvalue=0.34748050332358726)\n"
     ]
    }
   ],
   "source": [
    "corr = pearsonr(kilometers_travelled, fuel_prices)\n",
    "print(corr)"
   ]
  },
  {
   "cell_type": "code",
   "execution_count": 18,
   "id": "2117af83-38e2-4599-8f2a-878fedc873b4",
   "metadata": {},
   "outputs": [
    {
     "name": "stdout",
     "output_type": "stream",
     "text": [
      "PearsonRResult(statistic=0.4727916601389726, pvalue=0.1675961107154768)\n"
     ]
    }
   ],
   "source": [
    "corr = pearsonr(number_deliveries, fuel_prices)\n",
    "print(corr)"
   ]
  },
  {
   "cell_type": "markdown",
   "id": "8e8399fc-e60d-4952-8afe-7925424b2b9c",
   "metadata": {},
   "source": [
    "Correlation between kilometers_travelled and number_deliveries is 0.955. Extremely strong. A massive red flag for multilinearlity.\n",
    "- 0.0-0.4 weak correlation\n",
    "- 0.4-0.7 medium correlation\n",
    "- 0.7 and above is strong\n",
    "\n",
    "<b> IV Scatterplots and Pearson correlations </b>\n",
    "1. r = 0.955 p-value = 0.000156 XXXXXXXXX. Big problem. These two independent variables should not be included together.\n",
    "2. r = 0.332 p-value 0.347. Very weak correlation. Good\n",
    "3. r = 0.472, p-value 0.16. Medium. Ok.\n",
    "\n",
    "Two problematic variables are miles_travelled and number_deliveries. Only include 1 in the regression if we are not learning.\n",
    "\n",
    "<b> Correlation Summary </b>\n",
    "1. Correlation analysis confirms what we have seen in the scatterplots.\n",
    "2. Redundant multicolinear variables kilometers_travelled and number_deliveries are highly correlated with each other and therefore are redundant, only should be used in the multiple regression analysis.\n",
    "3. Non-contributing variable, fuel_prices are not correlated with the dependent variable and should be excluded.\n",
    "\n",
    "<b> Review and conclusions </b>\n",
    "1. There is a lot of prep-work to do for multilinear regression.\n",
    "2. Don't blindly mash buttons.\n",
    "3. Tecnhiques\n",
    " - Scatterplots\n",
    " - Correlation\n",
    " - Individual and group regressions\n",
    "\n",
    "1. For the sake of learning, we will break the rules and leave all of the independent variables in first.\n",
    "2. Then we will remove the problematics variables to see what happens to the regression results\n",
    "3. We will also do simple regressions with the dependent variable as baseline\n",
    "4. In the end we will get the best model\n",
    "\n",
    "<b> Simple linear regression </b>\n",
    "1. First we will conduct simple linear regression for each independent variable separately\n",
    "2. We will interpret the results\n",
    "3. We will note how the results change:\n",
    "   - coefficents - values, t-statistics, p-value\n",
    "   - ANOVA analysis of variance, F-value, p-value\n",
    "   - R-squared, R-squared adjusted\n"
   ]
  },
  {
   "cell_type": "code",
   "execution_count": 19,
   "id": "39e7ba0b-37a0-45c2-86cc-016525cc4be5",
   "metadata": {},
   "outputs": [],
   "source": [
    "import numpy as np\n",
    "from sklearn.linear_model import LinearRegression\n",
    "\n"
   ]
  },
  {
   "cell_type": "code",
   "execution_count": 21,
   "id": "13c91e1b-954c-4484-a66c-a735187e2b54",
   "metadata": {},
   "outputs": [
    {
     "name": "stdout",
     "output_type": "stream",
     "text": [
      "0.8615153295097224\n"
     ]
    }
   ],
   "source": [
    "model = LinearRegression()\n",
    "kilometers_travelled = np.array(kilometers_travelled).reshape(-1, 1)\n",
    "model.fit(kilometers_travelled, time_taken)\n",
    "r_sq = model.score(kilometers_travelled, time_taken)\n",
    "print(r_sq)"
   ]
  },
  {
   "cell_type": "markdown",
   "id": "056639a8-bfc4-452c-b36e-4a4b8609c673",
   "metadata": {},
   "source": [
    "- R-squared is the % of variation in the dependent variable explained by the independent variable\n",
    "- Standard error (SE) of the regression is the average distance of the points away from the regression line"
   ]
  },
  {
   "cell_type": "code",
   "execution_count": 23,
   "id": "47c624ba-5ccd-4fdf-9d39-c294a39bbb1e",
   "metadata": {},
   "outputs": [],
   "source": [
    "import statsmodels.api as sm"
   ]
  },
  {
   "cell_type": "code",
   "execution_count": 25,
   "id": "fa7672e0-dea1-4e44-9514-e72f942d49f2",
   "metadata": {},
   "outputs": [
    {
     "name": "stdout",
     "output_type": "stream",
     "text": [
      "                            OLS Regression Results                            \n",
      "==============================================================================\n",
      "Dep. Variable:                      y   R-squared:                       0.862\n",
      "Model:                            OLS   Adj. R-squared:                  0.844\n",
      "Method:                 Least Squares   F-statistic:                     49.77\n",
      "Date:                Fri, 31 Jan 2025   Prob (F-statistic):           0.000107\n",
      "Time:                        15:42:42   Log-Likelihood:                -2.3532\n",
      "No. Observations:                  10   AIC:                             8.706\n",
      "Df Residuals:                       8   BIC:                             9.312\n",
      "Df Model:                           1                                         \n",
      "Covariance Type:            nonrobust                                         \n",
      "==============================================================================\n",
      "                 coef    std err          t      P>|t|      [0.025      0.975]\n",
      "------------------------------------------------------------------------------\n",
      "const          3.1856      0.467      6.822      0.000       2.109       4.262\n",
      "x1             0.0403      0.006      7.055      0.000       0.027       0.053\n",
      "==============================================================================\n",
      "Omnibus:                        0.542   Durbin-Watson:                   2.608\n",
      "Prob(Omnibus):                  0.763   Jarque-Bera (JB):                0.554\n",
      "Skew:                           0.370   Prob(JB):                        0.758\n",
      "Kurtosis:                       2.115   Cond. No.                         353.\n",
      "==============================================================================\n",
      "\n",
      "Notes:\n",
      "[1] Standard Errors assume that the covariance matrix of the errors is correctly specified.\n",
      "0.3423088398195201\n"
     ]
    },
    {
     "name": "stderr",
     "output_type": "stream",
     "text": [
      "C:\\Users\\johnl\\anaconda3\\Lib\\site-packages\\scipy\\stats\\_axis_nan_policy.py:531: UserWarning: kurtosistest only valid for n>=20 ... continuing anyway, n=10\n",
      "  res = hypotest_fun_out(*samples, **kwds)\n"
     ]
    }
   ],
   "source": [
    "kilometers_travelled = sm.add_constant(kilometers_travelled)\n",
    "model = sm.OLS(time_taken, kilometers_travelled)\n",
    "result = model.fit()\n",
    "print(result.summary())\n",
    "# Next line gives the standard error\n",
    "print(result.scale**0.5)"
   ]
  },
  {
   "cell_type": "code",
   "execution_count": 26,
   "id": "2ef325e8-2a4a-4b2f-89b9-4011208dd2b0",
   "metadata": {},
   "outputs": [
    {
     "name": "stdout",
     "output_type": "stream",
     "text": [
      "                            OLS Regression Results                            \n",
      "==============================================================================\n",
      "Dep. Variable:                      y   R-squared:                       0.840\n",
      "Model:                            OLS   Adj. R-squared:                  0.820\n",
      "Method:                 Least Squares   F-statistic:                     41.96\n",
      "Date:                Fri, 31 Jan 2025   Prob (F-statistic):           0.000193\n",
      "Time:                        15:50:45   Log-Likelihood:                -3.0794\n",
      "No. Observations:                  10   AIC:                             10.16\n",
      "Df Residuals:                       8   BIC:                             10.76\n",
      "Df Model:                           1                                         \n",
      "Covariance Type:            nonrobust                                         \n",
      "==============================================================================\n",
      "                 coef    std err          t      P>|t|      [0.025      0.975]\n",
      "------------------------------------------------------------------------------\n",
      "const          4.8454      0.265     18.261      0.000       4.234       5.457\n",
      "x1             0.4983      0.077      6.478      0.000       0.321       0.676\n",
      "==============================================================================\n",
      "Omnibus:                        0.391   Durbin-Watson:                   1.970\n",
      "Prob(Omnibus):                  0.822   Jarque-Bera (JB):                0.065\n",
      "Skew:                           0.147   Prob(JB):                        0.968\n",
      "Kurtosis:                       2.736   Cond. No.                         8.41\n",
      "==============================================================================\n",
      "\n",
      "Notes:\n",
      "[1] Standard Errors assume that the covariance matrix of the errors is correctly specified.\n",
      "0.36809138318567824\n"
     ]
    },
    {
     "name": "stderr",
     "output_type": "stream",
     "text": [
      "C:\\Users\\johnl\\anaconda3\\Lib\\site-packages\\scipy\\stats\\_axis_nan_policy.py:531: UserWarning: kurtosistest only valid for n>=20 ... continuing anyway, n=10\n",
      "  res = hypotest_fun_out(*samples, **kwds)\n"
     ]
    }
   ],
   "source": [
    "number_deliveries = sm.add_constant(number_deliveries)\n",
    "model = sm.OLS(time_taken, number_deliveries)\n",
    "result = model.fit()\n",
    "print(result.summary())\n",
    "# Next line gives the standard error\n",
    "print(result.scale**0.5)"
   ]
  },
  {
   "cell_type": "code",
   "execution_count": 27,
   "id": "2507d627-60d2-4def-aaac-f9e3ae467e34",
   "metadata": {},
   "outputs": [
    {
     "name": "stdout",
     "output_type": "stream",
     "text": [
      "                            OLS Regression Results                            \n",
      "==============================================================================\n",
      "Dep. Variable:                      y   R-squared:                       0.062\n",
      "Model:                            OLS   Adj. R-squared:                 -0.055\n",
      "Method:                 Least Squares   F-statistic:                    0.5316\n",
      "Date:                Fri, 31 Jan 2025   Prob (F-statistic):              0.487\n",
      "Time:                        15:54:40   Log-Likelihood:                -11.917\n",
      "No. Observations:                  10   AIC:                             27.83\n",
      "Df Residuals:                       8   BIC:                             28.44\n",
      "Df Model:                           1                                         \n",
      "Covariance Type:            nonrobust                                         \n",
      "==============================================================================\n",
      "                 coef    std err          t      P>|t|      [0.025      0.975]\n",
      "------------------------------------------------------------------------------\n",
      "const          3.6734      3.737      0.983      0.354      -4.943      12.290\n",
      "x1             0.7738      1.061      0.729      0.487      -1.673       3.221\n",
      "==============================================================================\n",
      "Omnibus:                        1.224   Durbin-Watson:                   2.841\n",
      "Prob(Omnibus):                  0.542   Jarque-Bera (JB):                0.784\n",
      "Skew:                          -0.621   Prob(JB):                        0.676\n",
      "Kurtosis:                       2.418   Cond. No.                         50.5\n",
      "==============================================================================\n",
      "\n",
      "Notes:\n",
      "[1] Standard Errors assume that the covariance matrix of the errors is correctly specified.\n",
      "0.890732016913587\n"
     ]
    },
    {
     "name": "stderr",
     "output_type": "stream",
     "text": [
      "C:\\Users\\johnl\\anaconda3\\Lib\\site-packages\\scipy\\stats\\_axis_nan_policy.py:531: UserWarning: kurtosistest only valid for n>=20 ... continuing anyway, n=10\n",
      "  res = hypotest_fun_out(*samples, **kwds)\n"
     ]
    }
   ],
   "source": [
    "fuel_prices = sm.add_constant(fuel_prices)\n",
    "model = sm.OLS(time_taken, fuel_prices)\n",
    "result = model.fit()\n",
    "print(result.summary())\n",
    "# Next line gives the standard error\n",
    "print(result.scale**0.5)"
   ]
  },
  {
   "cell_type": "code",
   "execution_count": 38,
   "id": "b2c9d257-8a6a-4fc6-a5bd-a48309dc0d8f",
   "metadata": {},
   "outputs": [
    {
     "name": "stdout",
     "output_type": "stream",
     "text": [
      "[(89, 4), (66, 1), (78, 3), (111, 6), (44, 1), (77, 3), (80, 3), (66, 2), (109, 5), (76, 3)]\n"
     ]
    }
   ],
   "source": [
    "kilometers_travelled = [89, 66, 78, 111, 44, 77, 80, 66, 109, 76]\n",
    "number_deliveries = [4, 1, 3, 6, 1, 3, 3, 2, 5, 3]\n",
    "data = list(zip(kilometers_travelled, number_deliveries))\n",
    "print(data)\n",
    "\n"
   ]
  },
  {
   "cell_type": "code",
   "execution_count": 39,
   "id": "62f08df8-8510-497b-8bec-46acb9d68332",
   "metadata": {},
   "outputs": [
    {
     "name": "stdout",
     "output_type": "stream",
     "text": [
      "                            OLS Regression Results                            \n",
      "==============================================================================\n",
      "Dep. Variable:                      y   R-squared:                       0.871\n",
      "Model:                            OLS   Adj. R-squared:                  0.835\n",
      "Method:                 Least Squares   F-statistic:                     23.72\n",
      "Date:                Fri, 31 Jan 2025   Prob (F-statistic):           0.000763\n",
      "Time:                        16:14:08   Log-Likelihood:                -1.9830\n",
      "No. Observations:                  10   AIC:                             9.966\n",
      "Df Residuals:                       7   BIC:                             10.87\n",
      "Df Model:                           2                                         \n",
      "Covariance Type:            nonrobust                                         \n",
      "==============================================================================\n",
      "                 coef    std err          t      P>|t|      [0.025      0.975]\n",
      "------------------------------------------------------------------------------\n",
      "const          3.7322      0.887      4.208      0.004       1.635       5.830\n",
      "x1             0.0262      0.020      1.310      0.232      -0.021       0.074\n",
      "x2             0.1840      0.251      0.733      0.487      -0.409       0.777\n",
      "==============================================================================\n",
      "Omnibus:                        1.340   Durbin-Watson:                   2.402\n",
      "Prob(Omnibus):                  0.512   Jarque-Bera (JB):                0.867\n",
      "Skew:                           0.654   Prob(JB):                        0.648\n",
      "Kurtosis:                       2.393   Cond. No.                         670.\n",
      "==============================================================================\n",
      "\n",
      "Notes:\n",
      "[1] Standard Errors assume that the covariance matrix of the errors is correctly specified.\n",
      "0.3526424259803893\n"
     ]
    },
    {
     "name": "stderr",
     "output_type": "stream",
     "text": [
      "C:\\Users\\johnl\\anaconda3\\Lib\\site-packages\\scipy\\stats\\_axis_nan_policy.py:531: UserWarning: kurtosistest only valid for n>=20 ... continuing anyway, n=10\n",
      "  res = hypotest_fun_out(*samples, **kwds)\n"
     ]
    }
   ],
   "source": [
    "data = sm.add_constant(data)\n",
    "model = sm.OLS(time_taken, data)\n",
    "result = model.fit()\n",
    "print(result.summary())\n",
    "# Next line gives the standard error\n",
    "print(result.scale**0.5)\n",
    "\n"
   ]
  },
  {
   "cell_type": "code",
   "execution_count": 40,
   "id": "35cf3522-8b05-4b5e-83e5-8f877eaf3c3a",
   "metadata": {},
   "outputs": [
    {
     "name": "stdout",
     "output_type": "stream",
     "text": [
      "[(89, 3.84), (66, 3.19), (78, 3.78), (111, 3.84), (44, 3.57), (77, 3.57), (80, 3.03), (66, 3.51), (109, 3.54), (76, 3.24)]\n"
     ]
    }
   ],
   "source": [
    "fuel_prices = [3.84, 3.19, 3.78, 3.84, 3.57, 3.57, 3.03, 3.51, 3.54, 3.24]\n",
    "data = list(zip(kilometers_travelled, fuel_prices))\n",
    "print(data)"
   ]
  },
  {
   "cell_type": "code",
   "execution_count": 41,
   "id": "c0cbec9d-bbd1-4ca3-8f62-4f7e26e61776",
   "metadata": {},
   "outputs": [
    {
     "name": "stdout",
     "output_type": "stream",
     "text": [
      "                            OLS Regression Results                            \n",
      "==============================================================================\n",
      "Dep. Variable:                      y   R-squared:                       0.865\n",
      "Model:                            OLS   Adj. R-squared:                  0.827\n",
      "Method:                 Least Squares   F-statistic:                     22.51\n",
      "Date:                Fri, 31 Jan 2025   Prob (F-statistic):           0.000893\n",
      "Time:                        16:22:15   Log-Likelihood:                -2.2087\n",
      "No. Observations:                  10   AIC:                             10.42\n",
      "Df Residuals:                       7   BIC:                             11.33\n",
      "Df Model:                           2                                         \n",
      "Covariance Type:            nonrobust                                         \n",
      "==============================================================================\n",
      "                 coef    std err          t      P>|t|      [0.025      0.975]\n",
      "------------------------------------------------------------------------------\n",
      "const          3.8340      1.513      2.534      0.039       0.256       7.412\n",
      "x1             0.0412      0.006      6.464      0.000       0.026       0.056\n",
      "x2            -0.2065      0.456     -0.453      0.664      -1.284       0.871\n",
      "==============================================================================\n",
      "Omnibus:                        0.742   Durbin-Watson:                   2.736\n",
      "Prob(Omnibus):                  0.690   Jarque-Bera (JB):                0.567\n",
      "Skew:                           0.049   Prob(JB):                        0.753\n",
      "Kurtosis:                       1.838   Cond. No.                     1.13e+03\n",
      "==============================================================================\n",
      "\n",
      "Notes:\n",
      "[1] Standard Errors assume that the covariance matrix of the errors is correctly specified.\n",
      "[2] The condition number is large, 1.13e+03. This might indicate that there are\n",
      "strong multicollinearity or other numerical problems.\n",
      "0.3606919690088511\n"
     ]
    },
    {
     "name": "stderr",
     "output_type": "stream",
     "text": [
      "C:\\Users\\johnl\\anaconda3\\Lib\\site-packages\\scipy\\stats\\_axis_nan_policy.py:531: UserWarning: kurtosistest only valid for n>=20 ... continuing anyway, n=10\n",
      "  res = hypotest_fun_out(*samples, **kwds)\n"
     ]
    }
   ],
   "source": [
    "data = sm.add_constant(data)\n",
    "model = sm.OLS(time_taken, data)\n",
    "result = model.fit()\n",
    "print(result.summary())\n",
    "# Next line gives the standard error\n",
    "print(result.scale**0.5)\n"
   ]
  },
  {
   "cell_type": "code",
   "execution_count": 42,
   "id": "1031d4f7-c663-4408-8a3c-c1e27357ea8f",
   "metadata": {},
   "outputs": [
    {
     "name": "stdout",
     "output_type": "stream",
     "text": [
      "[(4, 3.84), (1, 3.19), (3, 3.78), (6, 3.84), (1, 3.57), (3, 3.57), (3, 3.03), (2, 3.51), (5, 3.54), (3, 3.24)]\n"
     ]
    }
   ],
   "source": [
    "data = list(zip(number_deliveries, fuel_prices))\n",
    "print(data)"
   ]
  },
  {
   "cell_type": "code",
   "execution_count": 43,
   "id": "20f1f806-812a-456f-bc15-48e4b6a6a3e3",
   "metadata": {},
   "outputs": [
    {
     "name": "stdout",
     "output_type": "stream",
     "text": [
      "                            OLS Regression Results                            \n",
      "==============================================================================\n",
      "Dep. Variable:                      y   R-squared:                       0.883\n",
      "Model:                            OLS   Adj. R-squared:                  0.850\n",
      "Method:                 Least Squares   F-statistic:                     26.50\n",
      "Date:                Fri, 31 Jan 2025   Prob (F-statistic):           0.000543\n",
      "Time:                        16:27:59   Log-Likelihood:                -1.4969\n",
      "No. Observations:                  10   AIC:                             8.994\n",
      "Df Residuals:                       7   BIC:                             9.902\n",
      "Df Model:                           2                                         \n",
      "Covariance Type:            nonrobust                                         \n",
      "==============================================================================\n",
      "                 coef    std err          t      P>|t|      [0.025      0.975]\n",
      "------------------------------------------------------------------------------\n",
      "const          7.2313      1.498      4.829      0.002       3.690      10.772\n",
      "x1             0.5591      0.080      7.018      0.000       0.371       0.747\n",
      "x2            -0.7332      0.454     -1.614      0.150      -1.807       0.341\n",
      "==============================================================================\n",
      "Omnibus:                        1.269   Durbin-Watson:                   2.068\n",
      "Prob(Omnibus):                  0.530   Jarque-Bera (JB):                0.762\n",
      "Skew:                           0.275   Prob(JB):                        0.683\n",
      "Kurtosis:                       1.764   Cond. No.                         72.4\n",
      "==============================================================================\n",
      "\n",
      "Notes:\n",
      "[1] Standard Errors assume that the covariance matrix of the errors is correctly specified.\n",
      "0.3359096523296127\n"
     ]
    },
    {
     "name": "stderr",
     "output_type": "stream",
     "text": [
      "C:\\Users\\johnl\\anaconda3\\Lib\\site-packages\\scipy\\stats\\_axis_nan_policy.py:531: UserWarning: kurtosistest only valid for n>=20 ... continuing anyway, n=10\n",
      "  res = hypotest_fun_out(*samples, **kwds)\n"
     ]
    }
   ],
   "source": [
    "data = sm.add_constant(data)\n",
    "model = sm.OLS(time_taken, data)\n",
    "result = model.fit()\n",
    "print(result.summary())\n",
    "# Next line gives the standard error\n",
    "print(result.scale**0.5)\n"
   ]
  },
  {
   "cell_type": "markdown",
   "id": "5d9597e8-93eb-441b-b1a2-ceadd90aa05b",
   "metadata": {},
   "source": [
    "Consider the model above. If deliveries are held constant, then the travel time is expected to decrease by 0.7332 of an hour for every additional dollar increase in fuel prices. This makes no sense. The p-value of 0.15 (>>0.05) indicates that this is going to be an issue."
   ]
  },
  {
   "cell_type": "code",
   "execution_count": 44,
   "id": "123c8401-88f0-4d3f-882b-f59bc129504a",
   "metadata": {},
   "outputs": [
    {
     "name": "stdout",
     "output_type": "stream",
     "text": [
      "[(89, 4, 3.84), (66, 1, 3.19), (78, 3, 3.78), (111, 6, 3.84), (44, 1, 3.57), (77, 3, 3.57), (80, 3, 3.03), (66, 2, 3.51), (109, 5, 3.54), (76, 3, 3.24)]\n"
     ]
    }
   ],
   "source": [
    "all_data = list(zip(kilometers_travelled, number_deliveries, fuel_prices))\n",
    "print(all_data)"
   ]
  },
  {
   "cell_type": "code",
   "execution_count": 47,
   "id": "d0bc015b-1b5f-4bce-8207-659866e40009",
   "metadata": {},
   "outputs": [
    {
     "name": "stdout",
     "output_type": "stream",
     "text": [
      "                            OLS Regression Results                            \n",
      "==============================================================================\n",
      "Dep. Variable:                      y   R-squared:                       0.892\n",
      "Model:                            OLS   Adj. R-squared:                  0.838\n",
      "Method:                 Least Squares   F-statistic:                     16.48\n",
      "Date:                Fri, 31 Jan 2025   Prob (F-statistic):            0.00266\n",
      "Time:                        16:36:10   Log-Likelihood:                -1.1212\n",
      "No. Observations:                  10   AIC:                             10.24\n",
      "Df Residuals:                       6   BIC:                             11.45\n",
      "Df Model:                           3                                         \n",
      "Covariance Type:            nonrobust                                         \n",
      "==============================================================================\n",
      "                 coef    std err          t      P>|t|      [0.025      0.975]\n",
      "------------------------------------------------------------------------------\n",
      "const          6.0364      2.340      2.579      0.042       0.310      11.763\n",
      "x1             0.0153      0.022      0.684      0.519      -0.039       0.070\n",
      "x2             0.3619      0.300      1.207      0.273      -0.372       1.095\n",
      "x3            -0.5655      0.532     -1.062      0.329      -1.868       0.737\n",
      "==============================================================================\n",
      "Omnibus:                        2.928   Durbin-Watson:                   2.434\n",
      "Prob(Omnibus):                  0.231   Jarque-Bera (JB):                1.180\n",
      "Skew:                           0.426   Prob(JB):                        0.554\n",
      "Kurtosis:                       1.550   Cond. No.                     1.78e+03\n",
      "==============================================================================\n",
      "\n",
      "Notes:\n",
      "[1] Standard Errors assume that the covariance matrix of the errors is correctly specified.\n",
      "[2] The condition number is large, 1.78e+03. This might indicate that there are\n",
      "strong multicollinearity or other numerical problems.\n",
      "0.3494453779421422\n"
     ]
    },
    {
     "name": "stderr",
     "output_type": "stream",
     "text": [
      "C:\\Users\\johnl\\anaconda3\\Lib\\site-packages\\scipy\\stats\\_axis_nan_policy.py:531: UserWarning: kurtosistest only valid for n>=20 ... continuing anyway, n=10\n",
      "  res = hypotest_fun_out(*samples, **kwds)\n"
     ]
    }
   ],
   "source": [
    "data = sm.add_constant(all_data)\n",
    "model = sm.OLS(time_taken, data)\n",
    "result = model.fit()\n",
    "print(result.summary())\n",
    "# Next line gives the standard error\n",
    "print(result.scale**0.5)\n"
   ]
  },
  {
   "cell_type": "markdown",
   "id": "9f04140e-7d58-485c-b204-91103a83942d",
   "metadata": {},
   "source": [
    "How to we choose the best model?\n",
    "1. $R^2 adjusted$\n",
    "2. The standard error\n",
    "3. The AIC and BIC to be as low as possible\n",
    "4. Consider the p-value for all of the coefficients in the model. If they are not all significant this indicates a problem\n",
    "5. Consider the model. Does it make sense? Often is the coefficients are not significant the model will not make sense when you consider the problem. When the coefficients are not significant they are basically random.\n",
    "6. If the condition number is very high that is a good indicator of problems\n",
    "7. All else being equal the simplest model is the best\n",
    "\n",
    "A good exam question would be to evaluate the best model from a bunch of choices given the ANOVA."
   ]
  },
  {
   "cell_type": "markdown",
   "id": "09b25f4c-dc6d-43df-a4f4-bfea0c3c73f0",
   "metadata": {},
   "source": [
    "<b> Interval data </b>\n",
    "- Number of cars in a car park\n",
    "- Height\n",
    "- Age\n",
    "- Value of something in €\n",
    "- Weight of something\n",
    "- Temperature\n",
    "\n",
    "<b>Categorical data </b>\n",
    "- Day of the week\n",
    "- Gender\n",
    "- Types of cuisines\n",
    "- True/False\n",
    "- Colour\n",
    "- North/South/East/West\n",
    "- Places Drogheda/Dundalk\n",
    "- Brands"
   ]
  }
 ],
 "metadata": {
  "kernelspec": {
   "display_name": "Python 3 (ipykernel)",
   "language": "python",
   "name": "python3"
  },
  "language_info": {
   "codemirror_mode": {
    "name": "ipython",
    "version": 3
   },
   "file_extension": ".py",
   "mimetype": "text/x-python",
   "name": "python",
   "nbconvert_exporter": "python",
   "pygments_lexer": "ipython3",
   "version": "3.12.4"
  }
 },
 "nbformat": 4,
 "nbformat_minor": 5
}
